{
 "cells": [
  {
   "cell_type": "code",
   "execution_count": 1,
   "metadata": {},
   "outputs": [
    {
     "name": "stderr",
     "output_type": "stream",
     "text": [
      "C:\\Users\\arinj\\Anaconda3\\lib\\site-packages\\h5py\\__init__.py:36: FutureWarning: Conversion of the second argument of issubdtype from `float` to `np.floating` is deprecated. In future, it will be treated as `np.float64 == np.dtype(float).type`.\n",
      "  from ._conv import register_converters as _register_converters\n",
      "Using TensorFlow backend.\n"
     ]
    }
   ],
   "source": [
    "import pandas as pd\n",
    "import numpy as np\n",
    "from sklearn.cluster import KMeans\n",
    "import csv\n",
    "import math\n",
    "import matplotlib.pyplot\n",
    "from matplotlib import pyplot as plt\n",
    "import tensorflow as tf\n",
    "from tqdm import tqdm_notebook                    #importing all packages and libraries\n",
    "from keras.utils import np_utils\n",
    "%matplotlib inline"
   ]
  },
  {
   "cell_type": "markdown",
   "metadata": {},
   "source": [
    "# Creating numpy matrices after feature subtraction and concatenation"
   ]
  },
  {
   "cell_type": "code",
   "execution_count": 2,
   "metadata": {},
   "outputs": [],
   "source": [
    "path = '../GSC-Dataset/GSC-Features-Data/'\n",
    "gsc = pd.read_csv(path + 'GSC-Features.csv', sep=',', header=0)\n",
    "gsc.set_index('img_id', inplace = True)\n",
    "gsc_sp = pd.read_csv(path + 'same_pairs.csv', sep=',', header=0, usecols=[0,1])\n",
    "gsc_dfn = pd.read_csv(path + 'diffn_pairs.csv', sep=',', header=0, usecols=[0,1])\n"
   ]
  },
  {
   "cell_type": "code",
   "execution_count": 3,
   "metadata": {},
   "outputs": [],
   "source": [
    "gsc_sp_concat = np.empty((0,1024), int)\n",
    "gsc_sp_diff = np.empty((0,512), int)\n",
    "gsc_dp_concat = np.empty((0,1024), int)\n",
    "gsc_dp_diff = np.empty((0,512), int)\n",
    "for i in range(1,5001):                                 #taking only 5000 data out of 790000\n",
    "    img_id_A = gsc_sp.loc[i][0]\n",
    "    img_id_B = gsc_sp.loc[i][1]\n",
    "    try:\n",
    "        concat = np.append(gsc.loc[img_id_A], gsc.loc[img_id_B])\n",
    "        diff = np.subtract(gsc.loc[img_id_A], gsc.loc[img_id_B])\n",
    "        gsc_sp_concat = np.append(gsc_sp_concat, [concat], axis=0)\n",
    "        gsc_sp_diff = np.append(gsc_sp_diff, [diff], axis=0)\n",
    "    except:\n",
    "        continue\n",
    "        \n",
    "np.savetxt('same_pair_concat_pickle.csv', gsc_sp_concat, delimiter=',')\n",
    "np.savetxt('same_pair_diff_pickle.csv', gsc_sp_diff, delimiter=',')"
   ]
  },
  {
   "cell_type": "code",
   "execution_count": 4,
   "metadata": {},
   "outputs": [],
   "source": [
    "for i in range(1,5001):\n",
    "    img_id_A = gsc_dfn.loc[i][0]\n",
    "    img_id_B = gsc_dfn.loc[i][1]\n",
    "    try:\n",
    "        concat = np.append(gsc.loc[img_id_A], gsc.loc[img_id_B])\n",
    "        diff = np.subtract(gsc.loc[img_id_A], gsc.loc[img_id_B])\n",
    "        gsc_dp_concat = np.append(gsc_dp_concat, [concat], axis=0)\n",
    "        gsc_dp_diff = np.append(gsc_dp_diff, [diff], axis=0)\n",
    "    except:\n",
    "        continue\n",
    "        \n",
    "np.savetxt('diff_pair_concat_pickle.csv', gsc_sp_concat, delimiter=',')\n",
    "np.savetxt('diff_pair_diff_pickle.csv', gsc_sp_diff, delimiter=',')"
   ]
  },
  {
   "cell_type": "code",
   "execution_count": 5,
   "metadata": {},
   "outputs": [],
   "source": [
    "df = pd.read_csv(\"same_pair_concat_pickle.csv\" , header=None)\n",
    "df['1024'] = '1'\n",
    "df.to_csv('same_pair_concat_pickle_with_ones.csv', header=False, index=False)\n",
    "\n",
    "df = pd.read_csv(\"same_pair_diff_pickle.csv\" , header=None)\n",
    "df['512'] = '1'\n",
    "df.to_csv('same_pair_diff_pickle_with_ones.csv', header=False, index=False)\n",
    "\n",
    "df = pd.read_csv(\"diff_pair_concat_pickle.csv\" , header=None)\n",
    "df['1024'] = '0'\n",
    "df.to_csv('diff_pair_concat_pickle_with_zeroes.csv', header=False, index=False)\n",
    "\n",
    "df = pd.read_csv(\"diff_pair_diff_pickle.csv\" , header=None)\n",
    "df['512'] = '0'\n",
    "df.to_csv('diff_pair_diff_pickle_with_zeroes.csv', header=False, index=False)\n",
    "\n",
    "dp_concat_temp = pd.read_csv('diff_pair_concat_pickle_with_zeroes.csv', sep=',')\n",
    "dp_diff_temp = pd.read_csv('diff_pair_diff_pickle_with_zeroes.csv', sep=',')\n",
    "sp_concat_temp = pd.read_csv('same_pair_concat_pickle_with_ones.csv', sep=',')\n",
    "sp_diff_temp = pd.read_csv('same_pair_diff_pickle_with_ones.csv', sep=',')\n",
    "\n",
    "a = np.array(dp_concat_temp)\n",
    "b = np.array(dp_diff_temp)\n",
    "c = np.array(sp_concat_temp[:2001])\n",
    "d = np.array(sp_diff_temp[:2001])\n",
    "\n",
    "concat_matrix=np.concatenate((c,a),axis=0)\n",
    "np.random.shuffle(concat_matrix)\n",
    "diff_matrix=np.concatenate((d,b),axis=0)\n",
    "np.random.shuffle(diff_matrix)\n",
    "\n",
    "np.savetxt('concat_matrix_pickle.csv', concat_matrix, delimiter=',')\n",
    "np.savetxt('diff_matrix_pickle.csv', diff_matrix, delimiter=',')"
   ]
  },
  {
   "cell_type": "markdown",
   "metadata": {},
   "source": [
    "# Partitioning data into training, validation and testing"
   ]
  },
  {
   "cell_type": "code",
   "execution_count": 6,
   "metadata": {},
   "outputs": [],
   "source": [
    "target_con = pd.read_csv('concat_matrix_pickle.csv', sep=',', header=None, usecols=[1024])\n",
    "target_vector_concat=np.array(target_con)\n",
    "target_dif = pd.read_csv('diff_matrix_pickle.csv', sep=',', header=None, usecols=[512])\n",
    "target_vector_diff=np.array(target_dif)"
   ]
  },
  {
   "cell_type": "code",
   "execution_count": 7,
   "metadata": {},
   "outputs": [],
   "source": [
    "def TrainingData(given_matrix,given_target):\n",
    "    n, m = given_matrix.shape\n",
    "    n_train = int(0.9 * n)\n",
    "    n_valid = int((n - n_train) / 2)\n",
    "\n",
    "    x_train = given_matrix.loc[:n_train, :]\n",
    "    return x_train\n",
    "\n",
    "def ValidationData(given_matrix,given_target):\n",
    "    n, m = given_matrix.shape\n",
    "    n_train = int(0.9 * n)\n",
    "    n_valid = int((n - n_train) / 2)\n",
    "\n",
    "    x_valid = given_matrix.loc[n_train:n_train + n_valid, :]\n",
    "    return x_valid\n",
    "\n",
    "def TestingData(given_matrix,given_target):\n",
    "    n, m = given_matrix.shape\n",
    "    n_train = int(0.9 * n)\n",
    "    n_valid = int((n - n_train) / 2)\n",
    "\n",
    "    x_test = given_matrix.loc[n_train + n_valid:, :]\n",
    "    return x_test\n",
    "\n",
    "\n",
    "def TrainingVector(given_matrix,given_target):\n",
    "    n, m = given_matrix.shape\n",
    "    n_train = int(0.9 * n)\n",
    "    n_valid = int((n - n_train) / 2)\n",
    "\n",
    "    y_train = given_target[:n_train, :]\n",
    "    return y_train\n",
    "\n",
    "\n",
    "def ValidationVector(given_matrix,given_target):\n",
    "    n, m = given_matrix.shape\n",
    "    n_train = int(0.9 * n)\n",
    "    n_valid = int((n - n_train) / 2)\n",
    "\n",
    "    y_valid = given_target[n_train:n_train + n_valid, :]\n",
    "    return y_valid\n",
    "\n",
    "\n",
    "def TestingVector(given_matrix,given_target):\n",
    "    n, m = given_matrix.shape\n",
    "    n_train = int(0.9 * n)\n",
    "    n_valid = int((n - n_train) / 2)\n",
    "\n",
    "    y_test = given_target[n_train + n_valid:, :]\n",
    "    return y_test\n",
    "\n",
    "   "
   ]
  },
  {
   "cell_type": "code",
   "execution_count": 8,
   "metadata": {},
   "outputs": [],
   "source": [
    "concat_data = pd.read_csv('concat_matrix_pickle.csv', sep=',', header=None, usecols=range(1024))\n",
    "diff_data = pd.read_csv('diff_matrix_pickle.csv', sep=',', header=None, usecols=range(512))\n",
    "diff_data = diff_data.abs()"
   ]
  },
  {
   "cell_type": "code",
   "execution_count": 9,
   "metadata": {},
   "outputs": [
    {
     "name": "stdout",
     "output_type": "stream",
     "text": [
      "###################### Concatenation ##########################\n",
      "(6301, 1024)\n",
      "(351, 1024)\n",
      "(350, 1024)\n",
      "(6300, 1)\n",
      "(350, 1)\n",
      "(350, 1)\n",
      "###################### Subtraction ############################\n",
      "(6301, 512)\n",
      "(351, 512)\n",
      "(350, 512)\n",
      "(6300, 1)\n",
      "(350, 1)\n",
      "(350, 1)\n"
     ]
    }
   ],
   "source": [
    "print('###################### Concatenation ##########################')\n",
    "\n",
    "concat_train_data = TrainingData(concat_data,target_vector_concat) \n",
    "print(concat_train_data.shape)\n",
    "concat_valid_data = ValidationData(concat_data,target_vector_concat) \n",
    "print(concat_valid_data.shape)\n",
    "concat_test_data = TestingData(concat_data,target_vector_concat) \n",
    "print(concat_test_data.shape)\n",
    "concat_train_vector = TrainingVector(concat_data,target_vector_concat) \n",
    "print(concat_train_vector.shape)\n",
    "concat_valid_vector = ValidationVector(concat_data,target_vector_concat) \n",
    "print(concat_valid_vector.shape)\n",
    "concat_test_vector = TestingVector(concat_data,target_vector_concat) \n",
    "print(concat_test_vector.shape)\n",
    "\n",
    "print('###################### Subtraction ############################')\n",
    "\n",
    "diff_train_data = TrainingData(diff_data,target_vector_diff) \n",
    "print(diff_train_data.shape)\n",
    "diff_valid_data = ValidationData(diff_data,target_vector_diff) \n",
    "print(diff_valid_data.shape)\n",
    "diff_test_data = TestingData(diff_data,target_vector_diff) \n",
    "print(diff_test_data.shape)\n",
    "diff_train_vector = TrainingVector(diff_data,target_vector_diff) \n",
    "print(diff_train_vector.shape)\n",
    "diff_valid_vector = ValidationVector(diff_data,target_vector_diff) \n",
    "print(diff_valid_vector.shape)\n",
    "diff_test_vector = TestingVector(diff_data,target_vector_diff) \n",
    "print(diff_test_vector.shape)\n"
   ]
  },
  {
   "cell_type": "markdown",
   "metadata": {},
   "source": [
    "# Performing Linear Regression"
   ]
  },
  {
   "cell_type": "code",
   "execution_count": 10,
   "metadata": {},
   "outputs": [],
   "source": [
    "maxAcc = 0.0\n",
    "maxIter = 0\n",
    "TrainingPercent = 90\n",
    "ValidationPercent = 5\n",
    "TestPercent = 5\n",
    "M = 100\n",
    "PHI = []\n",
    "IsSynthetic = False"
   ]
  },
  {
   "cell_type": "code",
   "execution_count": 11,
   "metadata": {},
   "outputs": [],
   "source": [
    "def GenerateBigSigma(Data, MuMatrix,TrainingPercent,IsSynthetic):\n",
    "    BigSigma    = np.zeros((len(Data),len(Data)))\n",
    "    DataT       = np.transpose(Data)\n",
    "    TrainingLen = math.ceil(len(DataT)*(TrainingPercent*0.01))        \n",
    "    varVect     = []\n",
    "    for i in range(0,len(DataT[0])):\n",
    "        vct = []\n",
    "        for j in range(0,int(TrainingLen)):\n",
    "            vct.append(Data[i][j])    \n",
    "        varVect.append(np.var(vct))\n",
    "    \n",
    "    for j in range(len(Data)):\n",
    "        BigSigma[j][j] = varVect[j]\n",
    "    if IsSynthetic == True:\n",
    "        BigSigma = np.dot(3,BigSigma)\n",
    "    else:\n",
    "        BigSigma = np.dot(200,BigSigma)\n",
    "    ##print (\"BigSigma Generated..\")\n",
    "    return BigSigma\n",
    "\n",
    "def GetScalar(DataRow,MuRow, BigSigInv):  \n",
    "    R = np.subtract(DataRow,MuRow)\n",
    "    T = np.dot(BigSigInv,np.transpose(R))  \n",
    "    L = np.dot(R,T)\n",
    "    return L\n",
    "\n",
    "def GetRadialBasisOut(DataRow,MuRow, BigSigInv):    \n",
    "    phi_x = math.exp(-0.5*GetScalar(DataRow,MuRow,BigSigInv))\n",
    "    return phi_x\n",
    "\n",
    "def GetPhiMatrix(Data, MuMatrix, BigSigma, TrainingPercent = 80):\n",
    "    DataT = np.transpose(Data)\n",
    "    TrainingLen = math.ceil(len(DataT)*(TrainingPercent*0.01))         \n",
    "    PHI = np.zeros((int(TrainingLen),len(MuMatrix))) \n",
    "    BigSigInv = np.linalg.inv(BigSigma)\n",
    "    for  C in range(0,len(MuMatrix)):\n",
    "        for R in range(0,int(TrainingLen)):\n",
    "            PHI[R][C] = GetRadialBasisOut(DataT[R], MuMatrix[C], BigSigInv)\n",
    "    #print (\"PHI Generated..\")\n",
    "    return PHI\n",
    "\n",
    "def GetValTest(VAL_PHI,W):\n",
    "    Y = np.dot(W,np.transpose(VAL_PHI))\n",
    "    ##print (\"Test Out Generated..\")\n",
    "    return Y\n",
    "\n",
    "def GetErms(VAL_TEST_OUT,ValDataAct):\n",
    "    sum = 0.0\n",
    "    t=0\n",
    "    accuracy = 0.0\n",
    "    counter = 0\n",
    "    val = 0.0\n",
    "    for i in range (0,(len(VAL_TEST_OUT)-1)):\n",
    "        sum = sum + math.pow((ValDataAct[i] - VAL_TEST_OUT[i]),2)\n",
    "        if(int(np.around(VAL_TEST_OUT[i], 0)) == ValDataAct[i]):\n",
    "            counter+=1\n",
    "    accuracy = (float((counter*100))/float(len(VAL_TEST_OUT)))\n",
    "    ##print (\"Accuracy Generated..\")\n",
    "    ##print (\"Validation E_RMS : \" + str(math.sqrt(sum/len(VAL_TEST_OUT))))\n",
    "    return (str(accuracy) + ',' +  str(math.sqrt(sum/len(VAL_TEST_OUT))))\n",
    "\n",
    "def GetAccuracy(VAL_TEST_OUT,ValDataAct):\n",
    "    sum = 0.0\n",
    "    t=0\n",
    "    accuracy = 0.0\n",
    "    counter = 0\n",
    "    val = 0.0\n",
    "    for i in range (0,(len(VAL_TEST_OUT)-1)):\n",
    "        sum = sum + math.pow((ValDataAct[i] - VAL_TEST_OUT[i]),2)\n",
    "        if(int(np.around(VAL_TEST_OUT[i], 0)) == ValDataAct[i]):\n",
    "            counter+=1\n",
    "    accuracy = (float((counter*100))/float(len(VAL_TEST_OUT)))\n",
    "    return (str(accuracy))"
   ]
  },
  {
   "cell_type": "code",
   "execution_count": 12,
   "metadata": {},
   "outputs": [
    {
     "name": "stdout",
     "output_type": "stream",
     "text": [
      "(100, 1024)\n",
      "(1024, 1024)\n",
      "(6300, 100)\n",
      "(100,)\n",
      "(351, 100)\n",
      "(350, 100)\n"
     ]
    }
   ],
   "source": [
    "ErmsArr = []\n",
    "AccuracyArr = []\n",
    "\n",
    "kmeans = KMeans(n_clusters=M, random_state=0).fit(concat_train_data)\n",
    "Mu = kmeans.cluster_centers_\n",
    "\n",
    "concat_data_T = np.array(np.transpose(concat_data))\n",
    "concat_test_data_T = np.array(np.transpose(concat_test_data))\n",
    "concat_valid_data_T = np.array(np.transpose(concat_valid_data))\n",
    "\n",
    "BigSigma1     = GenerateBigSigma(concat_data_T, Mu, TrainingPercent,IsSynthetic)\n",
    "\n",
    "BigSigma =    np.identity(len(BigSigma1))*0.2 + BigSigma1\n",
    "\n",
    "TRAINING_PHI = GetPhiMatrix(concat_data_T, Mu, BigSigma, TrainingPercent)\n",
    "TEST_PHI     = GetPhiMatrix(concat_test_data_T, Mu, BigSigma, 100) \n",
    "VAL_PHI      = GetPhiMatrix(concat_valid_data_T, Mu, BigSigma, 100)\n",
    "W            = np.random.rand(M,)\n",
    "\n",
    "print(Mu.shape)\n",
    "print(BigSigma.shape)\n",
    "print(TRAINING_PHI.shape)\n",
    "print(W.shape)\n",
    "print(VAL_PHI.shape)\n",
    "print(TEST_PHI.shape)\n",
    "\n"
   ]
  },
  {
   "cell_type": "code",
   "execution_count": 13,
   "metadata": {},
   "outputs": [],
   "source": [
    "W_Now        = np.dot(220, W)\n",
    "La           = 2\n",
    "learningRate = 0.01\n",
    "L_Erms_Val   = []\n",
    "L_Erms_TR    = []\n",
    "L_Erms_Test  = []\n",
    "W_Mat        = []\n",
    "TrainingTarget = (np.transpose(concat_train_vector)).flatten()\n",
    "ValDataAct = np.array(concat_valid_vector)\n",
    "TestDataAct = np.array(concat_test_vector)\n",
    "\n",
    "for i in range(0,1000):\n",
    "    #print ('---------Iteration: ' + str(i) + '--------------')\n",
    "    Delta_E_D     = -np.dot((TrainingTarget[i] - np.dot(np.transpose(W_Now),TRAINING_PHI[i])),TRAINING_PHI[i])\n",
    "    La_Delta_E_W  = np.dot(La,W_Now)\n",
    "    Delta_E       = np.add(Delta_E_D,La_Delta_E_W)    \n",
    "    Delta_W       = -np.dot(learningRate,Delta_E)\n",
    "    W_T_Next      = W_Now + Delta_W\n",
    "    W_Now         = W_T_Next\n",
    "    \n",
    "    #-----------------TrainingData Accuracy---------------------#\n",
    "    TR_TEST_OUT   = GetValTest(TRAINING_PHI,W_T_Next) \n",
    "    Erms_TR       = GetErms(TR_TEST_OUT,TrainingTarget)\n",
    "    Acc_TR        = GetAccuracy(TR_TEST_OUT,TrainingTarget)\n",
    "    L_Erms_TR.append(float(Erms_TR.split(',')[1]))\n",
    "    \n",
    "    #-----------------ValidationData Accuracy---------------------#\n",
    "    VAL_TEST_OUT  = GetValTest(VAL_PHI,W_T_Next) \n",
    "    Erms_Val      = GetErms(VAL_TEST_OUT,ValDataAct)\n",
    "    Acc_Val       = GetAccuracy(VAL_TEST_OUT,ValDataAct)\n",
    "    L_Erms_Val.append(float(Erms_Val.split(',')[1]))\n",
    "    \n",
    "    #-----------------TestingData Accuracy---------------------#\n",
    "    TEST_OUT      = GetValTest(TEST_PHI,W_T_Next) \n",
    "    Erms_Test     = GetErms(TEST_OUT,TestDataAct)\n",
    "    Acc_Test      = GetAccuracy(TEST_OUT,TestDataAct)\n",
    "    L_Erms_Test.append(float(Erms_Test.split(',')[1]))"
   ]
  },
  {
   "cell_type": "code",
   "execution_count": 14,
   "metadata": {},
   "outputs": [
    {
     "name": "stdout",
     "output_type": "stream",
     "text": [
      "--------------------LINEAR REGRESSION------------------------------------\n",
      "----------Gradient Descent Solution for Concatenation--------------------\n",
      "M = 100 \n",
      "Lambda  = 2\n",
      "eta = 0.01\n",
      "E_rms Training   = 0.44302122\n",
      "E_rms Validation = 0.43192941\n",
      "E_rms Testing    = 0.46094831\n",
      "Training Accuracy = 71.46031746031746%\n",
      "Validation Accuracy = 72.07977207977208%\n",
      "Testing Accuracy = 69.14285714285714%\n",
      "-------------------------------------------------------------------------\n"
     ]
    }
   ],
   "source": [
    "print ('--------------------LINEAR REGRESSION------------------------------------')\n",
    "print ('----------Gradient Descent Solution for Concatenation--------------------')\n",
    "print (\"M = 100 \\nLambda  = 2\\neta = 0.01\")\n",
    "print (\"E_rms Training   = \" + str(np.around(min(L_Erms_TR),8)))\n",
    "print (\"E_rms Validation = \" + str(np.around(min(L_Erms_Val),8)))\n",
    "print (\"E_rms Testing    = \" + str(np.around(min(L_Erms_Test),8)))\n",
    "print (\"Training Accuracy = \" + Acc_TR + \"%\")\n",
    "print (\"Validation Accuracy = \" + Acc_Val + \"%\")\n",
    "print (\"Testing Accuracy = \" + Acc_Test + \"%\")\n",
    "print ('-------------------------------------------------------------------------')"
   ]
  },
  {
   "cell_type": "code",
   "execution_count": 15,
   "metadata": {},
   "outputs": [
    {
     "name": "stdout",
     "output_type": "stream",
     "text": [
      "(100, 512)\n",
      "(512, 512)\n",
      "(6300, 100)\n",
      "(100,)\n",
      "(351, 100)\n",
      "(350, 100)\n"
     ]
    }
   ],
   "source": [
    "ErmsArr = []\n",
    "AccuracyArr = []\n",
    "\n",
    "kmeans = KMeans(n_clusters=M, random_state=0).fit(diff_train_data)\n",
    "Mu = kmeans.cluster_centers_\n",
    "\n",
    "diff_data_T = np.array(np.transpose(diff_data))\n",
    "diff_test_data_T = np.array(np.transpose(diff_test_data))\n",
    "diff_valid_data_T = np.array(np.transpose(diff_valid_data))\n",
    "\n",
    "BigSigma1     = GenerateBigSigma(diff_data_T, Mu, TrainingPercent,IsSynthetic)\n",
    "\n",
    "BigSigma =    np.identity(len(BigSigma1))*0.2 + BigSigma1\n",
    "\n",
    "TRAINING_PHI = GetPhiMatrix(diff_data_T, Mu, BigSigma, TrainingPercent)\n",
    "TEST_PHI     = GetPhiMatrix(diff_test_data_T, Mu, BigSigma, 100) \n",
    "VAL_PHI      = GetPhiMatrix(diff_valid_data_T, Mu, BigSigma, 100)\n",
    "W            = np.random.rand(M,)\n",
    "\n",
    "print(Mu.shape)\n",
    "print(BigSigma.shape)\n",
    "print(TRAINING_PHI.shape)\n",
    "print(W.shape)\n",
    "print(VAL_PHI.shape)\n",
    "print(TEST_PHI.shape)\n"
   ]
  },
  {
   "cell_type": "code",
   "execution_count": 16,
   "metadata": {},
   "outputs": [],
   "source": [
    "W_Now        = np.dot(220, W)\n",
    "La           = 2\n",
    "learningRate = 0.01\n",
    "L_Erms_Val   = []\n",
    "L_Erms_TR    = []\n",
    "L_Erms_Test  = []\n",
    "W_Mat        = []\n",
    "TrainingTarget = (np.transpose(diff_train_vector)).flatten()\n",
    "ValDataAct = np.array(diff_valid_vector)\n",
    "TestDataAct = np.array(diff_test_vector)\n",
    "\n",
    "for i in range(0,1000):\n",
    "    #print ('---------Iteration: ' + str(i) + '--------------')\n",
    "    Delta_E_D     = -np.dot((TrainingTarget[i] - np.dot(np.transpose(W_Now),TRAINING_PHI[i])),TRAINING_PHI[i])\n",
    "    La_Delta_E_W  = np.dot(La,W_Now)\n",
    "    Delta_E       = np.add(Delta_E_D,La_Delta_E_W)    \n",
    "    Delta_W       = -np.dot(learningRate,Delta_E)\n",
    "    W_T_Next      = W_Now + Delta_W\n",
    "    W_Now         = W_T_Next\n",
    "    \n",
    "     #-----------------TrainingData Accuracy---------------------#\n",
    "    TR_TEST_OUT   = GetValTest(TRAINING_PHI,W_T_Next) \n",
    "    Erms_TR       = GetErms(TR_TEST_OUT,TrainingTarget)\n",
    "    Acc_TR        = GetAccuracy(TR_TEST_OUT,TrainingTarget)\n",
    "    L_Erms_TR.append(float(Erms_TR.split(',')[1]))\n",
    "    \n",
    "    #-----------------ValidationData Accuracy---------------------#\n",
    "    VAL_TEST_OUT  = GetValTest(VAL_PHI,W_T_Next) \n",
    "    Erms_Val      = GetErms(VAL_TEST_OUT,ValDataAct)\n",
    "    Acc_Val       = GetAccuracy(VAL_TEST_OUT,ValDataAct)\n",
    "    L_Erms_Val.append(float(Erms_Val.split(',')[1]))\n",
    "    \n",
    "    #-----------------TestingData Accuracy---------------------#\n",
    "    TEST_OUT      = GetValTest(TEST_PHI,W_T_Next) \n",
    "    Erms_Test     = GetErms(TEST_OUT,TestDataAct)\n",
    "    Acc_Test      = GetAccuracy(TEST_OUT,TestDataAct)\n",
    "    L_Erms_Test.append(float(Erms_Test.split(',')[1]))"
   ]
  },
  {
   "cell_type": "code",
   "execution_count": 17,
   "metadata": {},
   "outputs": [
    {
     "name": "stdout",
     "output_type": "stream",
     "text": [
      "--------------------LINEAR REGRESSION----------------------------------\n",
      "----------Gradient Descent Solution for Subtraction--------------------\n",
      "M = 100 \n",
      "Lambda  = 2\n",
      "eta = 0.01\n",
      "E_rms Training   = 0.44675744\n",
      "E_rms Validation = 0.44174172\n",
      "E_rms Testing    = 0.43513031\n",
      "Training Accuracy = 71.2063492063492%\n",
      "Validation Accuracy = 72.07977207977208%\n",
      "Testing Accuracy = 73.71428571428571%\n",
      "-------------------------------------------------------------------------\n"
     ]
    }
   ],
   "source": [
    "print ('--------------------LINEAR REGRESSION----------------------------------')\n",
    "print ('----------Gradient Descent Solution for Subtraction--------------------')\n",
    "print (\"M = 100 \\nLambda  = 2\\neta = 0.01\")\n",
    "print (\"E_rms Training   = \" + str(np.around(min(L_Erms_TR),8)))\n",
    "print (\"E_rms Validation = \" + str(np.around(min(L_Erms_Val),8)))\n",
    "print (\"E_rms Testing    = \" + str(np.around(min(L_Erms_Test),8)))\n",
    "print (\"Training Accuracy = \" + Acc_TR + \"%\")\n",
    "print (\"Validation Accuracy = \" + Acc_Val + \"%\")\n",
    "print (\"Testing Accuracy = \" + Acc_Test + \"%\")\n",
    "print ('-------------------------------------------------------------------------')"
   ]
  },
  {
   "cell_type": "markdown",
   "metadata": {},
   "source": [
    "# Performing Logistic Regression"
   ]
  },
  {
   "cell_type": "code",
   "execution_count": 18,
   "metadata": {},
   "outputs": [],
   "source": [
    "def sigmoid(parameter):\n",
    "    return (1/(1+(np.exp(-1*parameter))))\n",
    "\n",
    "def predict(features, weights):\n",
    "    z = np.dot(features, weights)\n",
    "    answer = sigmoid(z)\n",
    "    return answer\n",
    "\n",
    "def cost_function(features, labels, weights):\n",
    "    observations = len(labels)\n",
    "\n",
    "    predictions = predict(features, weights)\n",
    "    \n",
    "    #Take the error when label=1\n",
    "    class1_cost = -labels*np.log(predictions)\n",
    "    \n",
    "    #Take the error when label=0\n",
    "    class2_cost = (1-labels)*np.log(1-predictions)\n",
    "    \n",
    "    #Take the sum of both costs\n",
    "    cost = class1_cost - class2_cost\n",
    "\n",
    "    #Take the average cost\n",
    "    cost = cost.sum()/observations\n",
    "\n",
    "    return cost\n",
    "\n",
    "def update_weights(features, labels, weights, lr):\n",
    "    \n",
    "    N = len(features)\n",
    "\n",
    "    #1 - Get Predictions\n",
    "    predictions = predict(features, weights)\n",
    "\n",
    "    #2 Transpose features \n",
    "    gradient = np.dot(features.T,  predictions - labels)\n",
    "\n",
    "    #3 Take the average cost derivative for each feature\n",
    "    gradient /= N\n",
    "\n",
    "    #4 - Multiply the gradient by our learning rate\n",
    "    gradient *= lr\n",
    "\n",
    "    #5 - Subtract from our weights to minimize cost\n",
    "    weights -= gradient\n",
    "\n",
    "    return weights\n",
    "\n",
    "def train_logistic_weight(features, labels, weights, lr, iters):\n",
    "    cost_history = []\n",
    "\n",
    "    for i in range(iters):\n",
    "        weights = update_weights(features, labels, weights, lr)\n",
    "\n",
    "        #Calculate error for auditing purposes\n",
    "        cost = cost_function(features, labels, weights)\n",
    "        cost_history.append(cost)\n",
    "\n",
    "    return weights\n",
    "\n",
    "def train_logistic_cost(features, labels, weights, lr, iters):\n",
    "    cost_history = []\n",
    "\n",
    "    for i in range(iters):\n",
    "        weights = update_weights(features, labels, weights, lr)\n",
    "\n",
    "        #Calculate error for auditing purposes\n",
    "        cost = cost_function(features, labels, weights)\n",
    "        cost_history.append(cost)\n",
    "\n",
    "    return cost_history\n",
    "\n",
    "def accuracy_Logistic(predicted_labels, actual_labels):\n",
    "    count = 0\n",
    "    a = actual_labels\n",
    "    b = np.array(predicted_labels)\n",
    "    c = np.absolute(b)\n",
    "    d = np.around(c)\n",
    "    \n",
    "    for i in range(len(a)):\n",
    "        if (a[i]  == d[i]):\n",
    "            count += 1\n",
    "    \n",
    "    return (1-(count/len(a)))*100\n",
    "\n",
    "def Erms_Logistic(VAL_TEST_OUT,cost_last):\n",
    "    return (math.sqrt(2*cost_last/len(VAL_TEST_OUT)))\n"
   ]
  },
  {
   "cell_type": "code",
   "execution_count": 19,
   "metadata": {},
   "outputs": [],
   "source": [
    "W_Logistic        = np.dot(220, W_Now)\n",
    "concat_data_T = np.array(np.transpose(concat_data))\n",
    "concat_test_data_T = np.array(np.transpose(concat_test_data))\n",
    "concat_valid_data_T = np.array(np.transpose(concat_valid_data))\n",
    "\n",
    "kmeans = KMeans(n_clusters=M, random_state=0).fit(concat_train_data)\n",
    "Mu = kmeans.cluster_centers_\n",
    "\n",
    "BigSigma1     = GenerateBigSigma(concat_data_T, Mu, TrainingPercent,IsSynthetic)\n",
    "\n",
    "BigSigma =    np.identity(len(BigSigma1))*0.2 + BigSigma1\n",
    "\n",
    "TRAINING_PHI = GetPhiMatrix(concat_data_T, Mu, BigSigma, TrainingPercent)\n",
    "TEST_PHI     = GetPhiMatrix(concat_test_data_T, Mu, BigSigma, 100) \n",
    "VAL_PHI      = GetPhiMatrix(concat_valid_data_T, Mu, BigSigma, 100)\n",
    "\n",
    "TrainingTarget = (np.transpose(concat_train_vector)).flatten()\n",
    "ValDataAct = np.array(concat_valid_vector)\n",
    "TestDataAct = np.array(concat_test_vector)\n",
    "\n",
    "current_w = train_logistic_weight(TRAINING_PHI,TrainingTarget,W_Logistic,0.01,2000)\n",
    "current_cost_hist = train_logistic_cost(TRAINING_PHI,TrainingTarget,W_Logistic,0.01,2000)\n",
    "\n",
    "#-----------------TrainingData---------------------#\n",
    "TR_TEST_OUT   = GetValTest(TRAINING_PHI,current_w) \n",
    "Erms_TR       = Erms_Logistic(TR_TEST_OUT,current_cost_hist[-1])\n",
    "Acc_TR        = accuracy_Logistic(TR_TEST_OUT,TrainingTarget)\n",
    "        \n",
    "#-----------------ValidationData---------------------#\n",
    "VAL_TEST_OUT  = GetValTest(VAL_PHI,current_w) \n",
    "Erms_Val      = Erms_Logistic(VAL_TEST_OUT,current_cost_hist[-1])\n",
    "Acc_Val       = accuracy_Logistic(VAL_TEST_OUT,ValDataAct)\n",
    "    \n",
    "#-----------------TestingData---------------------#\n",
    "TEST_OUT      = GetValTest(TEST_PHI,current_w) \n",
    "Erms_Test     = Erms_Logistic(TEST_OUT,current_cost_hist[-1])\n",
    "Acc_Test      = accuracy_Logistic(TEST_OUT,TestDataAct)\n",
    "    "
   ]
  },
  {
   "cell_type": "code",
   "execution_count": 20,
   "metadata": {},
   "outputs": [
    {
     "name": "stdout",
     "output_type": "stream",
     "text": [
      "--------------------LOGISTIC REGRESSION------------------------------------\n",
      "----------Gradient Descent Solution for Concatenation--------------------\n",
      "M = 100 \n",
      "Iteration  = 2000\n",
      "eta = 0.01\n",
      "E_rms Training   = 0.015211089975801267\n",
      "E_rms Validation = 0.06444319318680147\n",
      "E_rms Testing    = 0.06453518922676675\n",
      "Training Accuracy = 37.25396825396825%\n",
      "Validation Accuracy = 31.14285714285714%\n",
      "Testing Accuracy = 39.142857142857146%\n",
      "-------------------------------------------------------------------------\n"
     ]
    }
   ],
   "source": [
    "print ('--------------------LOGISTIC REGRESSION------------------------------------')\n",
    "print ('----------Gradient Descent Solution for Concatenation--------------------')\n",
    "print (\"M = 100 \\nIteration  = 2000\\neta = 0.01\")\n",
    "print (\"E_rms Training   = \" + str(Erms_TR))\n",
    "print (\"E_rms Validation = \" + str(Erms_Val))\n",
    "print (\"E_rms Testing    = \" + str(Erms_Test))\n",
    "print (\"Training Accuracy = \" + str(Acc_TR) + \"%\")\n",
    "print (\"Validation Accuracy = \" + str(Acc_Val) + \"%\")\n",
    "print (\"Testing Accuracy = \" + str(Acc_Test) + \"%\")\n",
    "print ('-------------------------------------------------------------------------')"
   ]
  },
  {
   "cell_type": "code",
   "execution_count": 21,
   "metadata": {},
   "outputs": [
    {
     "name": "stderr",
     "output_type": "stream",
     "text": [
      "C:\\Users\\arinj\\Anaconda3\\lib\\site-packages\\ipykernel_launcher.py:18: RuntimeWarning: divide by zero encountered in log\n",
      "C:\\Users\\arinj\\Anaconda3\\lib\\site-packages\\ipykernel_launcher.py:18: RuntimeWarning: invalid value encountered in multiply\n"
     ]
    }
   ],
   "source": [
    "W_Logistic        = np.dot(220, W_Now)\n",
    "diff_data_T = np.array(np.transpose(diff_data))\n",
    "diff_test_data_T = np.array(np.transpose(diff_test_data))\n",
    "diff_valid_data_T = np.array(np.transpose(diff_valid_data))\n",
    "\n",
    "kmeans = KMeans(n_clusters=M, random_state=0).fit(diff_train_data)\n",
    "Mu = kmeans.cluster_centers_\n",
    "\n",
    "BigSigma1     = GenerateBigSigma(diff_data_T, Mu, TrainingPercent,IsSynthetic)\n",
    "\n",
    "BigSigma =    np.identity(len(BigSigma1))*0.2 + BigSigma1\n",
    "\n",
    "TRAINING_PHI = GetPhiMatrix(diff_data_T, Mu, BigSigma, TrainingPercent)\n",
    "TEST_PHI     = GetPhiMatrix(diff_test_data_T, Mu, BigSigma, 100) \n",
    "VAL_PHI      = GetPhiMatrix(diff_valid_data_T, Mu, BigSigma, 100)\n",
    "\n",
    "TrainingTarget = (np.transpose(diff_train_vector)).flatten()\n",
    "ValDataAct = np.array(diff_valid_vector)\n",
    "TestDataAct = np.array(diff_test_vector)\n",
    "\n",
    "current_w = train_logistic_weight(TRAINING_PHI,TrainingTarget,W_Logistic,0.01,2000)\n",
    "current_cost_hist = train_logistic_cost(TRAINING_PHI,TrainingTarget,W_Logistic,0.01,2000)\n",
    "\n",
    "#-----------------TrainingData---------------------#\n",
    "TR_TEST_OUT   = GetValTest(TRAINING_PHI,current_w) \n",
    "Erms_TR       = Erms_Logistic(TR_TEST_OUT,current_cost_hist[-1])\n",
    "Acc_TR        = accuracy_Logistic(TR_TEST_OUT,TrainingTarget)\n",
    "        \n",
    "#-----------------ValidationData---------------------#\n",
    "VAL_TEST_OUT  = GetValTest(VAL_PHI,current_w) \n",
    "Erms_Val      = Erms_Logistic(VAL_TEST_OUT,current_cost_hist[-1])\n",
    "Acc_Val       = accuracy_Logistic(VAL_TEST_OUT,ValDataAct)\n",
    "    \n",
    "#-----------------TestingData---------------------#\n",
    "TEST_OUT      = GetValTest(TEST_PHI,current_w) \n",
    "Erms_Test     = Erms_Logistic(TEST_OUT,current_cost_hist[-1])\n",
    "Acc_Test      = accuracy_Logistic(TEST_OUT,TestDataAct)\n",
    "    "
   ]
  },
  {
   "cell_type": "code",
   "execution_count": 22,
   "metadata": {},
   "outputs": [
    {
     "name": "stdout",
     "output_type": "stream",
     "text": [
      "--------------------LOGISTIC REGRESSION------------------------------------\n",
      "----------Gradient Descent Solution for Subtraction--------------------\n",
      "M = 100 \n",
      "Iteration  = 2000\n",
      "eta = 0.01\n",
      "E_rms Training   = 0.014028957762318956\n",
      "E_rms Validation = 0.059434980446822015\n",
      "E_rms Testing    = 0.05951982700029232\n",
      "Training Accuracy = 61.92063492063492%\n",
      "Validation Accuracy = 63.142857142857146%\n",
      "Testing Accuracy = 66.57142857142857%\n",
      "-------------------------------------------------------------------------\n"
     ]
    }
   ],
   "source": [
    "print ('--------------------LOGISTIC REGRESSION------------------------------------')\n",
    "print ('----------Gradient Descent Solution for Subtraction--------------------')\n",
    "print (\"M = 100 \\nIteration  = 2000\\neta = 0.01\")\n",
    "print (\"E_rms Training   = \" + str(Erms_TR))\n",
    "print (\"E_rms Validation = \" + str(Erms_Val))\n",
    "print (\"E_rms Testing    = \" + str(Erms_Test))\n",
    "print (\"Training Accuracy = \" + str(Acc_TR) + \"%\")\n",
    "print (\"Validation Accuracy = \" + str(Acc_Val) + \"%\")\n",
    "print (\"Testing Accuracy = \" + str(Acc_Test) + \"%\")\n",
    "print ('-------------------------------------------------------------------------')"
   ]
  },
  {
   "cell_type": "markdown",
   "metadata": {},
   "source": [
    "# Performing neural network"
   ]
  },
  {
   "cell_type": "code",
   "execution_count": 23,
   "metadata": {},
   "outputs": [],
   "source": [
    "# Defining Placeholder\n",
    "inputTensor  = tf.placeholder(tf.float32, [None, 1024])\n",
    "outputTensor = tf.placeholder(tf.float32, [None, 1])"
   ]
  },
  {
   "cell_type": "code",
   "execution_count": 24,
   "metadata": {},
   "outputs": [],
   "source": [
    "NUM_HIDDEN_NEURONS_LAYER_1 = 100\n",
    "NUM_HIDDEN_NEURONS_LAYER_2 = 100\n",
    "\n",
    "LEARNING_RATE = 1\n",
    "\n",
    "# Initializing the weights to Normal Distribution\n",
    "def init_weights(shape):\n",
    "    return tf.Variable(tf.random_normal(shape,stddev=0.01))\n",
    "\n",
    "#2 hidden layer\n",
    "input_hidden_weights  = init_weights([1024, NUM_HIDDEN_NEURONS_LAYER_1])\n",
    "\n",
    "#initializing the hidden layer 1 to output layer weights 1\n",
    "hidden_output_weights1 = init_weights([NUM_HIDDEN_NEURONS_LAYER_1, NUM_HIDDEN_NEURONS_LAYER_2])\n",
    "\n",
    "#initializing the input to hidden layer 2 weights\n",
    "input_hidden_weights2 = init_weights([NUM_HIDDEN_NEURONS_LAYER_1, NUM_HIDDEN_NEURONS_LAYER_2])\n",
    "\n",
    "#initializing the output to hidden layer 2 weights\n",
    "hidden_output_weights2 = init_weights([NUM_HIDDEN_NEURONS_LAYER_2, 1])\n",
    "\n",
    "# Computing values at the hidden layer 1\n",
    "hidden_layer1 = tf.nn.relu(tf.matmul(inputTensor, input_hidden_weights))\n",
    "\n",
    "#computing values at the hidden layer 2\n",
    "hidden_layer2 = tf.nn.relu(tf.matmul(hidden_layer1, input_hidden_weights2))\n",
    "\n",
    "# Computing values at the output layer\n",
    "output_layer = tf.matmul(hidden_layer2, hidden_output_weights2)\n",
    "\n",
    "# Defining Error Function\n",
    "error_function = tf.reduce_mean(tf.nn.sigmoid_cross_entropy_with_logits(logits=output_layer, labels=outputTensor))\n",
    "\n",
    "# Defining Learning Algorithm and Training Parameters\n",
    "training = tf.train.GradientDescentOptimizer(LEARNING_RATE).minimize(error_function)\n",
    "\n",
    "# Prediction Function\n",
    "prediction = tf.round(tf.sigmoid(output_layer))"
   ]
  },
  {
   "cell_type": "code",
   "execution_count": 25,
   "metadata": {},
   "outputs": [
    {
     "data": {
      "application/vnd.jupyter.widget-view+json": {
       "model_id": "5dff54f6df5049dea0ae8202eda35665",
       "version_major": 2,
       "version_minor": 0
      },
      "text/plain": [
       "HBox(children=(IntProgress(value=0, max=5000), HTML(value='')))"
      ]
     },
     "metadata": {},
     "output_type": "display_data"
    },
    {
     "name": "stdout",
     "output_type": "stream",
     "text": [
      "\n"
     ]
    }
   ],
   "source": [
    "NUM_OF_EPOCHS = 5000\n",
    "BATCH_SIZE = 128\n",
    "\n",
    "processedTrainingData = np.array(concat_train_data)\n",
    "processedTrainingLabel = np.array(concat_train_vector)\n",
    "processedTestingData = np.array(concat_test_data)\n",
    "processedTestingLabel = np.array(concat_test_vector)\n",
    "\n",
    "training_accuracy = []\n",
    "\n",
    "with tf.Session() as sess:\n",
    "    \n",
    "    # Set Global Variables ?\n",
    "    tf.global_variables_initializer().run()\n",
    "    \n",
    "    for epoch in tqdm_notebook(range(NUM_OF_EPOCHS)):\n",
    "        \n",
    "        #Shuffle the Training Dataset at each epoch\n",
    "        p = np.array(np.random.permutation(range(len(processedTrainingData)-1)),dtype='int')\n",
    "        processedTrainingData  = processedTrainingData[p]\n",
    "        processedTrainingLabel = processedTrainingLabel[p]\n",
    "        \n",
    "        # Start batch training\n",
    "        for start in range(0, len(processedTrainingData), BATCH_SIZE):\n",
    "            end = start + BATCH_SIZE\n",
    "            sess.run(training, feed_dict={inputTensor: processedTrainingData[start:end], \n",
    "                                          outputTensor: processedTrainingLabel[start:end]})\n",
    "        # Training accuracy for an epoch\n",
    "        training_accuracy.append(np.mean(np.argmax(processedTrainingLabel, axis=1) ==\n",
    "                             sess.run(prediction, feed_dict={inputTensor: processedTrainingData,\n",
    "                                                             outputTensor: processedTrainingLabel})))\n",
    "    # Testing\n",
    "    predictedTestLabel = sess.run(prediction, feed_dict={inputTensor: processedTestingData})"
   ]
  },
  {
   "cell_type": "code",
   "execution_count": 26,
   "metadata": {},
   "outputs": [
    {
     "data": {
      "text/plain": [
       "<matplotlib.axes._subplots.AxesSubplot at 0x248a0d29668>"
      ]
     },
     "execution_count": 26,
     "metadata": {},
     "output_type": "execute_result"
    },
    {
     "data": {
      "image/png": "[encoded data removed]",
      "text/plain": [
       "<Figure size 432x288 with 1 Axes>"
      ]
     },
     "metadata": {},
     "output_type": "display_data"
    }
   ],
   "source": [
    "df = pd.DataFrame()\n",
    "df['acc'] = training_accuracy\n",
    "df.plot(grid=True)"
   ]
  },
  {
   "cell_type": "code",
   "execution_count": 27,
   "metadata": {},
   "outputs": [
    {
     "name": "stdout",
     "output_type": "stream",
     "text": [
      "--------------------NEURAL NETWORKS------------------------------------\n",
      "---------------------Concatenation-------------------------------------\n",
      "Errors: 15  Correct :335\n",
      "Testing Accuracy: 95.71428571428572%\n",
      "-------------------------------------------------------------------------\n"
     ]
    }
   ],
   "source": [
    "wrong   = 0\n",
    "right   = 0\n",
    "predictedTestLabelList = []\n",
    "\n",
    "\"\"\n",
    "for i,j in zip(processedTestingLabel,predictedTestLabel):\n",
    "    #predictedTestLabelList.append(decodeLabel(j))\n",
    "    \n",
    "    if np.argmax(i) == j:\n",
    "        right = right + 1\n",
    "    else:\n",
    "        wrong = wrong + 1\n",
    "print ('--------------------NEURAL NETWORKS------------------------------------')\n",
    "print ('---------------------Concatenation-------------------------------------')\n",
    "\n",
    "print(\"Errors: \" + str(wrong), \" Correct :\" + str(right))\n",
    "\n",
    "print(\"Testing Accuracy: \" + str(right/(right+wrong)*100) + \"%\")\n",
    "print('-------------------------------------------------------------------------')\n",
    "\n"
   ]
  },
  {
   "cell_type": "code",
   "execution_count": 28,
   "metadata": {},
   "outputs": [],
   "source": [
    "# Defining Placeholder\n",
    "inputTensor  = tf.placeholder(tf.float32, [None, 512])\n",
    "outputTensor = tf.placeholder(tf.float32, [None, 1])"
   ]
  },
  {
   "cell_type": "code",
   "execution_count": 29,
   "metadata": {},
   "outputs": [],
   "source": [
    "NUM_HIDDEN_NEURONS_LAYER_1 = 100\n",
    "NUM_HIDDEN_NEURONS_LAYER_2 = 100\n",
    "\n",
    "LEARNING_RATE = 1\n",
    "\n",
    "# Initializing the weights to Normal Distribution\n",
    "def init_weights(shape):\n",
    "    return tf.Variable(tf.random_normal(shape,stddev=0.01))\n",
    "\n",
    "#2 hidden layer\n",
    "input_hidden_weights  = init_weights([512, NUM_HIDDEN_NEURONS_LAYER_1])\n",
    "\n",
    "#initializing the hidden layer 1 to output layer weights 1\n",
    "hidden_output_weights1 = init_weights([NUM_HIDDEN_NEURONS_LAYER_1, NUM_HIDDEN_NEURONS_LAYER_2])\n",
    "\n",
    "#initializing the input to hidden layer 2 weights\n",
    "input_hidden_weights2 = init_weights([NUM_HIDDEN_NEURONS_LAYER_1, NUM_HIDDEN_NEURONS_LAYER_2])\n",
    "\n",
    "#initializing the output to hidden layer 2 weights\n",
    "hidden_output_weights2 = init_weights([NUM_HIDDEN_NEURONS_LAYER_2, 1])\n",
    "\n",
    "# Computing values at the hidden layer 1\n",
    "hidden_layer1 = tf.nn.relu(tf.matmul(inputTensor, input_hidden_weights))\n",
    "\n",
    "#computing values at the hidden layer 2\n",
    "hidden_layer2 = tf.nn.relu(tf.matmul(hidden_layer1, input_hidden_weights2))\n",
    "\n",
    "# Computing values at the output layer\n",
    "output_layer = tf.matmul(hidden_layer2, hidden_output_weights2)\n",
    "\n",
    "# Defining Error Function\n",
    "error_function = tf.reduce_mean(tf.nn.sigmoid_cross_entropy_with_logits(logits=output_layer, labels=outputTensor))\n",
    "\n",
    "# Defining Learning Algorithm and Training Parameters\n",
    "training = tf.train.GradientDescentOptimizer(LEARNING_RATE).minimize(error_function)\n",
    "\n",
    "# Prediction Function\n",
    "prediction = tf.round(tf.sigmoid(output_layer))"
   ]
  },
  {
   "cell_type": "code",
   "execution_count": 30,
   "metadata": {},
   "outputs": [
    {
     "data": {
      "application/vnd.jupyter.widget-view+json": {
       "model_id": "3e8e106ce1314369b5f1031c27f5fe55",
       "version_major": 2,
       "version_minor": 0
      },
      "text/plain": [
       "HBox(children=(IntProgress(value=0, max=5000), HTML(value='')))"
      ]
     },
     "metadata": {},
     "output_type": "display_data"
    },
    {
     "name": "stdout",
     "output_type": "stream",
     "text": [
      "\n"
     ]
    }
   ],
   "source": [
    "NUM_OF_EPOCHS = 5000\n",
    "BATCH_SIZE = 128\n",
    "\n",
    "processedTrainingData = np.array(diff_train_data)\n",
    "processedTrainingLabel = np.array(diff_train_vector)\n",
    "processedTestingData = np.array(diff_test_data)\n",
    "processedTestingLabel = np.array(diff_test_vector)\n",
    "\n",
    "training_accuracy = []\n",
    "\n",
    "with tf.Session() as sess:\n",
    "    \n",
    "    # Set Global Variables ?\n",
    "    tf.global_variables_initializer().run()\n",
    "    \n",
    "    for epoch in tqdm_notebook(range(NUM_OF_EPOCHS)):\n",
    "        \n",
    "        #Shuffle the Training Dataset at each epoch\n",
    "        p = np.array(np.random.permutation(range(len(processedTrainingData)-1)),dtype='int')\n",
    "        processedTrainingData  = processedTrainingData[p]\n",
    "        processedTrainingLabel = processedTrainingLabel[p]\n",
    "        \n",
    "        # Start batch training\n",
    "        for start in range(0, len(processedTrainingData), BATCH_SIZE):\n",
    "            end = start + BATCH_SIZE\n",
    "            sess.run(training, feed_dict={inputTensor: processedTrainingData[start:end], \n",
    "                                          outputTensor: processedTrainingLabel[start:end]})\n",
    "        # Training accuracy for an epoch\n",
    "        training_accuracy.append(np.mean(np.argmax(processedTrainingLabel, axis=1) ==\n",
    "                             sess.run(prediction, feed_dict={inputTensor: processedTrainingData,\n",
    "                                                             outputTensor: processedTrainingLabel})))\n",
    "    # Testing\n",
    "    predictedTestLabel = sess.run(prediction, feed_dict={inputTensor: processedTestingData})"
   ]
  },
  {
   "cell_type": "code",
   "execution_count": 31,
   "metadata": {},
   "outputs": [
    {
     "data": {
      "text/plain": [
       "<matplotlib.axes._subplots.AxesSubplot at 0x248a2bf1588>"
      ]
     },
     "execution_count": 31,
     "metadata": {},
     "output_type": "execute_result"
    },
    {
     "data": {
      "image/png": "[encoded data removed]",
      "text/plain": [
       "<Figure size 432x288 with 1 Axes>"
      ]
     },
     "metadata": {},
     "output_type": "display_data"
    }
   ],
   "source": [
    "df = pd.DataFrame()\n",
    "df['acc'] = training_accuracy\n",
    "df.plot(grid=True)"
   ]
  },
  {
   "cell_type": "code",
   "execution_count": 32,
   "metadata": {},
   "outputs": [
    {
     "name": "stdout",
     "output_type": "stream",
     "text": [
      "--------------------NEURAL NETWORKS------------------------------------\n",
      "-----------------------Subtraction-------------------------------------\n",
      "Errors: 0  Correct :350\n",
      "Testing Accuracy: 100.0%\n",
      "-------------------------------------------------------------------------\n"
     ]
    }
   ],
   "source": [
    "wrong   = 0\n",
    "right   = 0\n",
    "predictedTestLabelList = []\n",
    "\n",
    "\"\"\n",
    "for i,j in zip(processedTestingLabel,predictedTestLabel):\n",
    "    #predictedTestLabelList.append(decodeLabel(j))\n",
    "    \n",
    "    if np.argmax(i) == j:\n",
    "        right = right + 1\n",
    "    else:\n",
    "        wrong = wrong + 1\n",
    "print ('--------------------NEURAL NETWORKS------------------------------------')\n",
    "print ('-----------------------Subtraction-------------------------------------')\n",
    "\n",
    "print(\"Errors: \" + str(wrong), \" Correct :\" + str(right))\n",
    "\n",
    "print(\"Testing Accuracy: \" + str(right/(right+wrong)*100) +\"%\")\n",
    "print('-------------------------------------------------------------------------')\n",
    "\n"
   ]
  },
  {
   "cell_type": "code",
   "execution_count": 33,
   "metadata": {},
   "outputs": [
    {
     "name": "stdout",
     "output_type": "stream",
     "text": [
      "-------------------------------------------------------------------------\n",
      "-------------------------------------------------------------------------\n",
      "------------------------THE END-----------------------------------------\n",
      "-------------------------------------------------------------------------\n",
      "-------------------------------------------------------------------------\n"
     ]
    }
   ],
   "source": [
    "print('-------------------------------------------------------------------------')\n",
    "print('-------------------------------------------------------------------------')\n",
    "print ('------------------------THE END-----------------------------------------')\n",
    "print('-------------------------------------------------------------------------')\n",
    "print('-------------------------------------------------------------------------')\n"
   ]
  },
  {
   "cell_type": "code",
   "execution_count": null,
   "metadata": {},
   "outputs": [],
   "source": []
  }
 ],
 "metadata": {
  "kernelspec": {
   "display_name": "Python 3",
   "language": "python",
   "name": "python3"
  },
  "language_info": {
   "codemirror_mode": {
    "name": "ipython",
    "version": 3
   },
   "file_extension": ".py",
   "mimetype": "text/x-python",
   "name": "python",
   "nbconvert_exporter": "python",
   "pygments_lexer": "ipython3",
   "version": "3.6.5"
  }
 },
 "nbformat": 4,
 "nbformat_minor": 2
}
