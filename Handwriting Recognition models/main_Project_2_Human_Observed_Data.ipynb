{
 "cells": [
  {
   "cell_type": "code",
   "execution_count": 1,
   "metadata": {},
   "outputs": [
    {
     "name": "stderr",
     "output_type": "stream",
     "text": [
      "C:\\Users\\arinj\\Anaconda3\\lib\\site-packages\\h5py\\__init__.py:36: FutureWarning: Conversion of the second argument of issubdtype from `float` to `np.floating` is deprecated. In future, it will be treated as `np.float64 == np.dtype(float).type`.\n",
      "  from ._conv import register_converters as _register_converters\n",
      "Using TensorFlow backend.\n"
     ]
    }
   ],
   "source": [
    "import pandas as pd\n",
    "import numpy as np\n",
    "from sklearn.cluster import KMeans\n",
    "import csv\n",
    "import math\n",
    "import matplotlib.pyplot\n",
    "from matplotlib import pyplot as plt\n",
    "import tensorflow as tf\n",
    "from tqdm import tqdm_notebook                    #importing all packages and libraries\n",
    "from keras.utils import np_utils\n",
    "%matplotlib inline"
   ]
  },
  {
   "cell_type": "markdown",
   "metadata": {},
   "source": [
    "# Creating numpy matrices after feature subtraction and concatenation"
   ]
  },
  {
   "cell_type": "code",
   "execution_count": 2,
   "metadata": {},
   "outputs": [],
   "source": [
    "path = '../HumanObserved-Dataset/HumanObserved-Features-Data/'\n",
    "hof = pd.read_csv(path + 'HumanObserved-Features-Data.csv', sep=',', header=0, usecols=list(range(1,11)))\n",
    "hof.set_index('img_id', inplace = True)\n",
    "hof_sp = pd.read_csv(path + 'same_pairs.csv', sep=',', header=0, usecols=[0,1])\n",
    "hof_dfn = pd.read_csv(path + 'diffn_pairs.csv', sep=',', header=0, usecols=[0,1])\n"
   ]
  },
  {
   "cell_type": "code",
   "execution_count": 3,
   "metadata": {},
   "outputs": [],
   "source": [
    "hof_sp_concat = np.empty((0,18), int)\n",
    "hof_sp_diff = np.empty((0,9), int)\n",
    "hof_dp_concat = np.empty((0,18), int)\n",
    "hof_dp_diff = np.empty((0,9), int)\n",
    "for i in range(len(hof_sp.index)):\n",
    "    \n",
    "    img_id_A = hof_sp.loc[i][0]\n",
    "    img_id_B = hof_sp.loc[i][1]\n",
    "    concat = np.append(hof.loc[img_id_A], hof.loc[img_id_B])\n",
    "    diff = np.subtract(hof.loc[img_id_A], hof.loc[img_id_B])\n",
    "    hof_sp_concat = np.append(hof_sp_concat, [concat], axis=0)\n",
    "    hof_sp_diff = np.append(hof_sp_diff, [diff], axis=0)\n",
    "\n",
    "np.savetxt('same_pair_concat_pickle.csv', hof_sp_concat, delimiter=',')\n",
    "np.savetxt('same_pair_diff_pickle.csv', hof_sp_diff, delimiter=',')"
   ]
  },
  {
   "cell_type": "code",
   "execution_count": 74,
   "metadata": {},
   "outputs": [
    {
     "ename": "KeyboardInterrupt",
     "evalue": "",
     "output_type": "error",
     "traceback": [
      "\u001b[1;31m---------------------------------------------------------------------------\u001b[0m",
      "\u001b[1;31mKeyboardInterrupt\u001b[0m                         Traceback (most recent call last)",
      "\u001b[1;32m<ipython-input-74-d46d2b06920e>\u001b[0m in \u001b[0;36m<module>\u001b[1;34m()\u001b[0m\n\u001b[0;32m      7\u001b[0m     \u001b[0mconcat\u001b[0m \u001b[1;33m=\u001b[0m \u001b[0mnp\u001b[0m\u001b[1;33m.\u001b[0m\u001b[0mappend\u001b[0m\u001b[1;33m(\u001b[0m\u001b[0mhof\u001b[0m\u001b[1;33m.\u001b[0m\u001b[0mloc\u001b[0m\u001b[1;33m[\u001b[0m\u001b[0mimg_id_A\u001b[0m\u001b[1;33m]\u001b[0m\u001b[1;33m,\u001b[0m \u001b[0mhof\u001b[0m\u001b[1;33m.\u001b[0m\u001b[0mloc\u001b[0m\u001b[1;33m[\u001b[0m\u001b[0mimg_id_B\u001b[0m\u001b[1;33m]\u001b[0m\u001b[1;33m)\u001b[0m\u001b[1;33m\u001b[0m\u001b[0m\n\u001b[0;32m      8\u001b[0m     \u001b[0mdiff\u001b[0m \u001b[1;33m=\u001b[0m \u001b[0mnp\u001b[0m\u001b[1;33m.\u001b[0m\u001b[0msubtract\u001b[0m\u001b[1;33m(\u001b[0m\u001b[0mhof\u001b[0m\u001b[1;33m.\u001b[0m\u001b[0mloc\u001b[0m\u001b[1;33m[\u001b[0m\u001b[0mimg_id_A\u001b[0m\u001b[1;33m]\u001b[0m\u001b[1;33m,\u001b[0m \u001b[0mhof\u001b[0m\u001b[1;33m.\u001b[0m\u001b[0mloc\u001b[0m\u001b[1;33m[\u001b[0m\u001b[0mimg_id_B\u001b[0m\u001b[1;33m]\u001b[0m\u001b[1;33m)\u001b[0m\u001b[1;33m\u001b[0m\u001b[0m\n\u001b[1;32m----> 9\u001b[1;33m     \u001b[0mhof_dp_concat\u001b[0m \u001b[1;33m=\u001b[0m \u001b[0mnp\u001b[0m\u001b[1;33m.\u001b[0m\u001b[0mappend\u001b[0m\u001b[1;33m(\u001b[0m\u001b[0mhof_dp_concat\u001b[0m\u001b[1;33m,\u001b[0m \u001b[1;33m[\u001b[0m\u001b[0mconcat\u001b[0m\u001b[1;33m]\u001b[0m\u001b[1;33m,\u001b[0m \u001b[0maxis\u001b[0m\u001b[1;33m=\u001b[0m\u001b[1;36m0\u001b[0m\u001b[1;33m)\u001b[0m\u001b[1;33m\u001b[0m\u001b[0m\n\u001b[0m\u001b[0;32m     10\u001b[0m     \u001b[0mhof_dp_diff\u001b[0m \u001b[1;33m=\u001b[0m \u001b[0mnp\u001b[0m\u001b[1;33m.\u001b[0m\u001b[0mappend\u001b[0m\u001b[1;33m(\u001b[0m\u001b[0mhof_dp_diff\u001b[0m\u001b[1;33m,\u001b[0m \u001b[1;33m[\u001b[0m\u001b[0mdiff\u001b[0m\u001b[1;33m]\u001b[0m\u001b[1;33m,\u001b[0m \u001b[0maxis\u001b[0m\u001b[1;33m=\u001b[0m\u001b[1;36m0\u001b[0m\u001b[1;33m)\u001b[0m\u001b[1;33m\u001b[0m\u001b[0m\n\u001b[0;32m     11\u001b[0m \u001b[1;33m\u001b[0m\u001b[0m\n",
      "\u001b[1;32m~\\Anaconda3\\lib\\site-packages\\numpy\\lib\\function_base.py\u001b[0m in \u001b[0;36mappend\u001b[1;34m(arr, values, axis)\u001b[0m\n\u001b[0;32m   5164\u001b[0m         \u001b[0mvalues\u001b[0m \u001b[1;33m=\u001b[0m \u001b[0mravel\u001b[0m\u001b[1;33m(\u001b[0m\u001b[0mvalues\u001b[0m\u001b[1;33m)\u001b[0m\u001b[1;33m\u001b[0m\u001b[0m\n\u001b[0;32m   5165\u001b[0m         \u001b[0maxis\u001b[0m \u001b[1;33m=\u001b[0m \u001b[0marr\u001b[0m\u001b[1;33m.\u001b[0m\u001b[0mndim\u001b[0m\u001b[1;33m-\u001b[0m\u001b[1;36m1\u001b[0m\u001b[1;33m\u001b[0m\u001b[0m\n\u001b[1;32m-> 5166\u001b[1;33m     \u001b[1;32mreturn\u001b[0m \u001b[0mconcatenate\u001b[0m\u001b[1;33m(\u001b[0m\u001b[1;33m(\u001b[0m\u001b[0marr\u001b[0m\u001b[1;33m,\u001b[0m \u001b[0mvalues\u001b[0m\u001b[1;33m)\u001b[0m\u001b[1;33m,\u001b[0m \u001b[0maxis\u001b[0m\u001b[1;33m=\u001b[0m\u001b[0maxis\u001b[0m\u001b[1;33m)\u001b[0m\u001b[1;33m\u001b[0m\u001b[0m\n\u001b[0m",
      "\u001b[1;31mKeyboardInterrupt\u001b[0m: "
     ]
    }
   ],
   "source": [
    "#TAKES HUGE TIME TO RUN#\n",
    "\n",
    "for i in range(len(hof_dfn.index)):    \n",
    "    img_id_A = hof_dfn.loc[i][0]\n",
    "    img_id_B = hof_dfn.loc[i][1]\n",
    "    concat = np.append(hof.loc[img_id_A], hof.loc[img_id_B])\n",
    "    diff = np.subtract(hof.loc[img_id_A], hof.loc[img_id_B])\n",
    "    hof_dp_concat = np.append(hof_dp_concat, [concat], axis=0)\n",
    "    hof_dp_diff = np.append(hof_dp_diff, [diff], axis=0)\n",
    "\n",
    "np.savetxt('diff_pair_concat_pickle.csv', hof_dp_concat, delimiter=',')\n",
    "np.savetxt('diff_pair_diff_pickle.csv', hof_dp_diff, delimiter=',')\n"
   ]
  },
  {
   "cell_type": "code",
   "execution_count": 4,
   "metadata": {},
   "outputs": [],
   "source": [
    "df = pd.read_csv(\"same_pair_concat_pickle.csv\" , header=None)\n",
    "df['18'] = '1'\n",
    "df.to_csv('same_pair_concat_pickle_with_ones.csv', header=False, index=False)\n",
    "\n",
    "df = pd.read_csv(\"same_pair_diff_pickle.csv\" , header=None)\n",
    "df['9'] = '1'\n",
    "df.to_csv('same_pair_diff_pickle_with_ones.csv', header=False, index=False)\n",
    "\n",
    "df = pd.read_csv(\"diff_pair_concat_pickle.csv\" , header=None)\n",
    "df['18'] = '0'\n",
    "df.to_csv('diff_pair_concat_pickle_with_zeroes.csv', header=False, index=False)\n",
    "\n",
    "df = pd.read_csv(\"diff_pair_diff_pickle.csv\" , header=None)\n",
    "df['9'] = '0'\n",
    "df.to_csv('diff_pair_diff_pickle_with_zeroes.csv', header=False, index=False)\n",
    "\n",
    "dp_concat_temp = pd.read_csv('diff_pair_concat_pickle_with_zeroes.csv', sep=',')\n",
    "dp_diff_temp = pd.read_csv('diff_pair_diff_pickle_with_zeroes.csv', sep=',')\n",
    "sp_concat_temp = pd.read_csv('same_pair_concat_pickle_with_ones.csv', sep=',')\n",
    "sp_diff_temp = pd.read_csv('same_pair_diff_pickle_with_ones.csv', sep=',')\n",
    "\n",
    "a = np.array(dp_concat_temp[:1210])    #taking total of 2000 data points, 1200 different pairs and 800 same pairs\n",
    "b = np.array(dp_diff_temp[:1210])\n",
    "c = np.array(sp_concat_temp)\n",
    "d = np.array(sp_diff_temp)\n",
    "\n",
    "concat_matrix=np.concatenate((c,a),axis=0)\n",
    "np.random.shuffle(concat_matrix)\n",
    "diff_matrix=np.concatenate((d,b),axis=0)\n",
    "np.random.shuffle(diff_matrix)\n",
    "\n",
    "np.savetxt('concat_matrix_pickle.csv', concat_matrix, delimiter=',')\n",
    "np.savetxt('diff_matrix_pickle.csv', diff_matrix, delimiter=',')"
   ]
  },
  {
   "cell_type": "markdown",
   "metadata": {},
   "source": [
    "# Partitioning data into training, validation and testing"
   ]
  },
  {
   "cell_type": "code",
   "execution_count": 5,
   "metadata": {},
   "outputs": [],
   "source": [
    "target_con = pd.read_csv('concat_matrix_pickle.csv', sep=',', header=None, usecols=[18])\n",
    "target_vector_concat=np.array(target_con)\n",
    "target_dif = pd.read_csv('diff_matrix_pickle.csv', sep=',', header=None, usecols=[9])\n",
    "target_vector_diff=np.array(target_dif)"
   ]
  },
  {
   "cell_type": "code",
   "execution_count": 6,
   "metadata": {},
   "outputs": [],
   "source": [
    "def TrainingData(given_matrix,given_target):\n",
    "    n, m = given_matrix.shape\n",
    "    n_train = int(0.9 * n)\n",
    "    n_valid = int((n - n_train) / 2)\n",
    "\n",
    "    x_train = given_matrix.loc[:n_train, :]\n",
    "    return x_train\n",
    "\n",
    "def ValidationData(given_matrix,given_target):\n",
    "    n, m = given_matrix.shape\n",
    "    n_train = int(0.9 * n)\n",
    "    n_valid = int((n - n_train) / 2)\n",
    "\n",
    "    x_valid = given_matrix.loc[n_train:n_train + n_valid, :]\n",
    "    return x_valid\n",
    "\n",
    "def TestingData(given_matrix,given_target):\n",
    "    n, m = given_matrix.shape\n",
    "    n_train = int(0.9 * n)\n",
    "    n_valid = int((n - n_train) / 2)\n",
    "\n",
    "    x_test = given_matrix.loc[n_train + n_valid:, :]\n",
    "    return x_test\n",
    "\n",
    "\n",
    "def TrainingVector(given_matrix,given_target):\n",
    "    n, m = given_matrix.shape\n",
    "    n_train = int(0.9 * n)\n",
    "    n_valid = int((n - n_train) / 2)\n",
    "\n",
    "    y_train = given_target[:n_train, :]\n",
    "    return y_train\n",
    "\n",
    "\n",
    "def ValidationVector(given_matrix,given_target):\n",
    "    n, m = given_matrix.shape\n",
    "    n_train = int(0.9 * n)\n",
    "    n_valid = int((n - n_train) / 2)\n",
    "\n",
    "    y_valid = given_target[n_train:n_train + n_valid, :]\n",
    "    return y_valid\n",
    "\n",
    "\n",
    "def TestingVector(given_matrix,given_target):\n",
    "    n, m = given_matrix.shape\n",
    "    n_train = int(0.9 * n)\n",
    "    n_valid = int((n - n_train) / 2)\n",
    "\n",
    "    y_test = given_target[n_train + n_valid:, :]\n",
    "    return y_test\n",
    "\n",
    "   "
   ]
  },
  {
   "cell_type": "code",
   "execution_count": 7,
   "metadata": {},
   "outputs": [],
   "source": [
    "concat_data = pd.read_csv('concat_matrix_pickle.csv', sep=',', header=None, usecols=range(18))\n",
    "diff_data = pd.read_csv('diff_matrix_pickle.csv', sep=',', header=None, usecols=range(9))\n",
    "diff_data = diff_data.abs()"
   ]
  },
  {
   "cell_type": "code",
   "execution_count": 8,
   "metadata": {},
   "outputs": [
    {
     "name": "stdout",
     "output_type": "stream",
     "text": [
      "###################### Concatenation ##########################\n",
      "(1801, 18)\n",
      "(101, 18)\n",
      "(100, 18)\n",
      "(1800, 1)\n",
      "(100, 1)\n",
      "(100, 1)\n",
      "###################### Subtraction ############################\n",
      "(1801, 9)\n",
      "(101, 9)\n",
      "(100, 9)\n",
      "(1800, 1)\n",
      "(100, 1)\n",
      "(100, 1)\n"
     ]
    }
   ],
   "source": [
    "print('###################### Concatenation ##########################')\n",
    "\n",
    "concat_train_data = TrainingData(concat_data,target_vector_concat) \n",
    "print(concat_train_data.shape)\n",
    "concat_valid_data = ValidationData(concat_data,target_vector_concat) \n",
    "print(concat_valid_data.shape)\n",
    "concat_test_data = TestingData(concat_data,target_vector_concat) \n",
    "print(concat_test_data.shape)\n",
    "concat_train_vector = TrainingVector(concat_data,target_vector_concat) \n",
    "print(concat_train_vector.shape)\n",
    "concat_valid_vector = ValidationVector(concat_data,target_vector_concat) \n",
    "print(concat_valid_vector.shape)\n",
    "concat_test_vector = TestingVector(concat_data,target_vector_concat) \n",
    "print(concat_test_vector.shape)\n",
    "\n",
    "print('###################### Subtraction ############################')\n",
    "\n",
    "diff_train_data = TrainingData(diff_data,target_vector_diff) \n",
    "print(diff_train_data.shape)\n",
    "diff_valid_data = ValidationData(diff_data,target_vector_diff) \n",
    "print(diff_valid_data.shape)\n",
    "diff_test_data = TestingData(diff_data,target_vector_diff) \n",
    "print(diff_test_data.shape)\n",
    "diff_train_vector = TrainingVector(diff_data,target_vector_diff) \n",
    "print(diff_train_vector.shape)\n",
    "diff_valid_vector = ValidationVector(diff_data,target_vector_diff) \n",
    "print(diff_valid_vector.shape)\n",
    "diff_test_vector = TestingVector(diff_data,target_vector_diff) \n",
    "print(diff_test_vector.shape)\n"
   ]
  },
  {
   "cell_type": "markdown",
   "metadata": {},
   "source": [
    "# Performing Linear Regression"
   ]
  },
  {
   "cell_type": "code",
   "execution_count": 9,
   "metadata": {},
   "outputs": [],
   "source": [
    "maxAcc = 0.0\n",
    "maxIter = 0\n",
    "TrainingPercent = 90\n",
    "ValidationPercent = 5\n",
    "TestPercent = 5\n",
    "M = 100\n",
    "PHI = []\n",
    "IsSynthetic = False"
   ]
  },
  {
   "cell_type": "code",
   "execution_count": 10,
   "metadata": {},
   "outputs": [],
   "source": [
    "def GenerateBigSigma(Data, MuMatrix,TrainingPercent,IsSynthetic):\n",
    "    BigSigma    = np.zeros((len(Data),len(Data)))\n",
    "    DataT       = np.transpose(Data)\n",
    "    TrainingLen = math.ceil(len(DataT)*(TrainingPercent*0.01))        \n",
    "    varVect     = []\n",
    "    for i in range(0,len(DataT[0])):\n",
    "        vct = []\n",
    "        for j in range(0,int(TrainingLen)):\n",
    "            vct.append(Data[i][j])    \n",
    "        varVect.append(np.var(vct))\n",
    "    \n",
    "    for j in range(len(Data)):\n",
    "        BigSigma[j][j] = varVect[j]\n",
    "    if IsSynthetic == True:\n",
    "        BigSigma = np.dot(3,BigSigma)\n",
    "    else:\n",
    "        BigSigma = np.dot(200,BigSigma)\n",
    "    ##print (\"BigSigma Generated..\")\n",
    "    return BigSigma\n",
    "\n",
    "def GetScalar(DataRow,MuRow, BigSigInv):  \n",
    "    R = np.subtract(DataRow,MuRow)\n",
    "    T = np.dot(BigSigInv,np.transpose(R))  \n",
    "    L = np.dot(R,T)\n",
    "    return L\n",
    "\n",
    "def GetRadialBasisOut(DataRow,MuRow, BigSigInv):    \n",
    "    phi_x = math.exp(-0.5*GetScalar(DataRow,MuRow,BigSigInv))\n",
    "    return phi_x\n",
    "\n",
    "def GetPhiMatrix(Data, MuMatrix, BigSigma, TrainingPercent = 90):\n",
    "    DataT = np.transpose(Data)\n",
    "    TrainingLen = math.ceil(len(DataT)*(TrainingPercent*0.01))         \n",
    "    PHI = np.zeros((int(TrainingLen),len(MuMatrix))) \n",
    "    BigSigInv = np.linalg.inv(BigSigma)\n",
    "    for  C in range(0,len(MuMatrix)):\n",
    "        for R in range(0,int(TrainingLen)):\n",
    "            PHI[R][C] = GetRadialBasisOut(DataT[R], MuMatrix[C], BigSigInv)\n",
    "    #print (\"PHI Generated..\")\n",
    "    return PHI\n",
    "\n",
    "def GetValTest(VAL_PHI,W):\n",
    "    Y = np.dot(W,np.transpose(VAL_PHI))\n",
    "    ##print (\"Test Out Generated..\")\n",
    "    return Y\n",
    "\n",
    "def GetErms(VAL_TEST_OUT,ValDataAct):\n",
    "    sum = 0.0\n",
    "    t=0\n",
    "    accuracy = 0.0\n",
    "    counter = 0\n",
    "    val = 0.0\n",
    "    for i in range (0,(len(VAL_TEST_OUT)-1)):\n",
    "        sum = sum + math.pow((ValDataAct[i] - VAL_TEST_OUT[i]),2)\n",
    "        if(int(np.around(VAL_TEST_OUT[i], 0)) == ValDataAct[i]):\n",
    "            counter+=1\n",
    "    accuracy = (float((counter*100))/float(len(VAL_TEST_OUT)))\n",
    "    ##print (\"Accuracy Generated..\")\n",
    "    ##print (\"Validation E_RMS : \" + str(math.sqrt(sum/len(VAL_TEST_OUT))))\n",
    "    return (str(accuracy) + ',' +  str(math.sqrt(sum/len(VAL_TEST_OUT))))\n",
    "\n",
    "def GetAccuracy(VAL_TEST_OUT,ValDataAct):\n",
    "    sum = 0.0\n",
    "    t=0\n",
    "    accuracy = 0.0\n",
    "    counter = 0\n",
    "    val = 0.0\n",
    "    for i in range (0,(len(VAL_TEST_OUT)-1)):\n",
    "        sum = sum + math.pow((ValDataAct[i] - VAL_TEST_OUT[i]),2)\n",
    "        if(int(np.around(VAL_TEST_OUT[i], 0)) == ValDataAct[i]):\n",
    "            counter+=1\n",
    "    accuracy = (float((counter*100))/float(len(VAL_TEST_OUT)))\n",
    "    return (str(accuracy))"
   ]
  },
  {
   "cell_type": "code",
   "execution_count": 11,
   "metadata": {},
   "outputs": [
    {
     "name": "stdout",
     "output_type": "stream",
     "text": [
      "(100, 18)\n",
      "(18, 18)\n",
      "(1800, 100)\n",
      "(100,)\n",
      "(101, 100)\n",
      "(100, 100)\n"
     ]
    }
   ],
   "source": [
    "ErmsArr = []\n",
    "AccuracyArr = []\n",
    "\n",
    "#Generating clusters\n",
    "\n",
    "kmeans = KMeans(n_clusters=M, random_state=0).fit(concat_train_data)\n",
    "Mu = kmeans.cluster_centers_\n",
    "\n",
    "concat_data_T = np.array(np.transpose(concat_data))\n",
    "concat_test_data_T = np.array(np.transpose(concat_test_data))\n",
    "concat_valid_data_T = np.array(np.transpose(concat_valid_data))\n",
    "\n",
    "#Generating basis matrices\n",
    "\n",
    "BigSigma     = GenerateBigSigma(concat_data_T, Mu, TrainingPercent,IsSynthetic)\n",
    "TRAINING_PHI = GetPhiMatrix(concat_data_T, Mu, BigSigma, TrainingPercent)\n",
    "TEST_PHI     = GetPhiMatrix(concat_test_data_T, Mu, BigSigma, 100) \n",
    "VAL_PHI      = GetPhiMatrix(concat_valid_data_T, Mu, BigSigma, 100)\n",
    "W            = np.random.rand(M,)\n",
    "\n",
    "print(Mu.shape)\n",
    "print(BigSigma.shape)\n",
    "print(TRAINING_PHI.shape)\n",
    "print(W.shape)\n",
    "print(VAL_PHI.shape)\n",
    "print(TEST_PHI.shape)\n",
    "\n"
   ]
  },
  {
   "cell_type": "code",
   "execution_count": 12,
   "metadata": {},
   "outputs": [],
   "source": [
    "W_Now        = np.dot(220, W)\n",
    "La           = 2\n",
    "learningRate = 0.01\n",
    "L_Erms_Val   = []\n",
    "L_Erms_TR    = []\n",
    "L_Erms_Test  = []\n",
    "W_Mat        = []\n",
    "TrainingTarget = (np.transpose(concat_train_vector)).flatten()\n",
    "ValDataAct = np.array(concat_valid_vector)\n",
    "TestDataAct = np.array(concat_test_vector)\n",
    "\n",
    "#Linear regression training for weights\n",
    "\n",
    "for i in range(0,1000):\n",
    "    #print ('---------Iteration: ' + str(i) + '--------------')\n",
    "    Delta_E_D     = -np.dot((TrainingTarget[i] - np.dot(np.transpose(W_Now),TRAINING_PHI[i])),TRAINING_PHI[i])\n",
    "    La_Delta_E_W  = np.dot(La,W_Now)\n",
    "    Delta_E       = np.add(Delta_E_D,La_Delta_E_W)    \n",
    "    Delta_W       = -np.dot(learningRate,Delta_E)\n",
    "    W_T_Next      = W_Now + Delta_W\n",
    "    W_Now         = W_T_Next\n",
    "    \n",
    "    #-----------------TrainingData Accuracy---------------------#\n",
    "    TR_TEST_OUT   = GetValTest(TRAINING_PHI,W_T_Next) \n",
    "    Erms_TR       = GetErms(TR_TEST_OUT,TrainingTarget)\n",
    "    Acc_TR        = GetAccuracy(TR_TEST_OUT,TrainingTarget)\n",
    "    L_Erms_TR.append(float(Erms_TR.split(',')[1]))\n",
    "    \n",
    "    #-----------------ValidationData Accuracy---------------------#\n",
    "    VAL_TEST_OUT  = GetValTest(VAL_PHI,W_T_Next) \n",
    "    Erms_Val      = GetErms(VAL_TEST_OUT,ValDataAct)\n",
    "    Acc_Val       = GetAccuracy(VAL_TEST_OUT,ValDataAct)\n",
    "    L_Erms_Val.append(float(Erms_Val.split(',')[1]))\n",
    "    \n",
    "    #-----------------TestingData Accuracy---------------------#\n",
    "    TEST_OUT      = GetValTest(TEST_PHI,W_T_Next) \n",
    "    Erms_Test     = GetErms(TEST_OUT,TestDataAct)\n",
    "    Acc_Test      = GetAccuracy(TEST_OUT,TestDataAct)\n",
    "    L_Erms_Test.append(float(Erms_Test.split(',')[1]))"
   ]
  },
  {
   "cell_type": "code",
   "execution_count": 13,
   "metadata": {},
   "outputs": [
    {
     "name": "stdout",
     "output_type": "stream",
     "text": [
      "--------------------LINEAR REGRESSION------------------------------------\n",
      "----------Gradient Descent Solution for Concatenation--------------------\n",
      "M = 100 \n",
      "Lambda  = 2\n",
      "eta = 0.01\n",
      "E_rms Training   = 0.55004843\n",
      "E_rms Validation = 0.52123634\n",
      "E_rms Testing    = 0.52497167\n",
      "Training Accuracy = 60.333333333333336%\n",
      "Validation Accuracy = 65.34653465346534%\n",
      "Testing Accuracy = 58.0%\n",
      "-------------------------------------------------------------------------\n"
     ]
    }
   ],
   "source": [
    "print ('--------------------LINEAR REGRESSION------------------------------------')\n",
    "print ('----------Gradient Descent Solution for Concatenation--------------------')\n",
    "print (\"M = 100 \\nLambda  = 2\\neta = 0.01\")\n",
    "print (\"E_rms Training   = \" + str(np.around(min(L_Erms_TR),8)))\n",
    "print (\"E_rms Validation = \" + str(np.around(min(L_Erms_Val),8)))\n",
    "print (\"E_rms Testing    = \" + str(np.around(min(L_Erms_Test),8)))\n",
    "print (\"Training Accuracy = \" + Acc_TR + \"%\")\n",
    "print (\"Validation Accuracy = \" + Acc_Val + \"%\")\n",
    "print (\"Testing Accuracy = \" + Acc_Test + \"%\")\n",
    "print ('-------------------------------------------------------------------------')"
   ]
  },
  {
   "cell_type": "code",
   "execution_count": 14,
   "metadata": {},
   "outputs": [
    {
     "name": "stdout",
     "output_type": "stream",
     "text": [
      "(100, 9)\n",
      "(9, 9)\n",
      "(1800, 100)\n",
      "(100,)\n",
      "(101, 100)\n",
      "(100, 100)\n"
     ]
    }
   ],
   "source": [
    "ErmsArr = []\n",
    "AccuracyArr = []\n",
    "\n",
    "kmeans = KMeans(n_clusters=M, random_state=0).fit(diff_train_data)\n",
    "Mu = kmeans.cluster_centers_\n",
    "\n",
    "diff_data_T = np.array(np.transpose(diff_data))\n",
    "diff_test_data_T = np.array(np.transpose(diff_test_data))\n",
    "diff_valid_data_T = np.array(np.transpose(diff_valid_data))\n",
    "\n",
    "BigSigma     = GenerateBigSigma(diff_data_T, Mu, TrainingPercent,IsSynthetic)\n",
    "TRAINING_PHI = GetPhiMatrix(diff_data_T, Mu, BigSigma, TrainingPercent)\n",
    "TEST_PHI     = GetPhiMatrix(diff_test_data_T, Mu, BigSigma, 100) \n",
    "VAL_PHI      = GetPhiMatrix(diff_valid_data_T, Mu, BigSigma, 100)\n",
    "W            = np.random.rand(M,)\n",
    "\n",
    "print(Mu.shape)\n",
    "print(BigSigma.shape)\n",
    "print(TRAINING_PHI.shape)\n",
    "print(W.shape)\n",
    "print(VAL_PHI.shape)\n",
    "print(TEST_PHI.shape)\n",
    "\n"
   ]
  },
  {
   "cell_type": "code",
   "execution_count": 15,
   "metadata": {},
   "outputs": [],
   "source": [
    "W_Now        = np.dot(220, W)\n",
    "La           = 2\n",
    "learningRate = 0.01\n",
    "L_Erms_Val   = []\n",
    "L_Erms_TR    = []\n",
    "L_Erms_Test  = []\n",
    "W_Mat        = []\n",
    "TrainingTarget = (np.transpose(diff_train_vector)).flatten()\n",
    "ValDataAct = np.array(diff_valid_vector)\n",
    "TestDataAct = np.array(diff_test_vector)\n",
    "\n",
    "for i in range(0,1000):\n",
    "    #print ('---------Iteration: ' + str(i) + '--------------')\n",
    "    Delta_E_D     = -np.dot((TrainingTarget[i] - np.dot(np.transpose(W_Now),TRAINING_PHI[i])),TRAINING_PHI[i])\n",
    "    La_Delta_E_W  = np.dot(La,W_Now)\n",
    "    Delta_E       = np.add(Delta_E_D,La_Delta_E_W)    \n",
    "    Delta_W       = -np.dot(learningRate,Delta_E)\n",
    "    W_T_Next      = W_Now + Delta_W\n",
    "    W_Now         = W_T_Next\n",
    "    \n",
    "     #-----------------TrainingData Accuracy---------------------#\n",
    "    TR_TEST_OUT   = GetValTest(TRAINING_PHI,W_T_Next) \n",
    "    Erms_TR       = GetErms(TR_TEST_OUT,TrainingTarget)\n",
    "    Acc_TR        = GetAccuracy(TR_TEST_OUT,TrainingTarget)\n",
    "    L_Erms_TR.append(float(Erms_TR.split(',')[1]))\n",
    "    \n",
    "    #-----------------ValidationData Accuracy---------------------#\n",
    "    VAL_TEST_OUT  = GetValTest(VAL_PHI,W_T_Next) \n",
    "    Erms_Val      = GetErms(VAL_TEST_OUT,ValDataAct)\n",
    "    Acc_Val       = GetAccuracy(VAL_TEST_OUT,ValDataAct)\n",
    "    L_Erms_Val.append(float(Erms_Val.split(',')[1]))\n",
    "    \n",
    "    #-----------------TestingData Accuracy---------------------#\n",
    "    TEST_OUT      = GetValTest(TEST_PHI,W_T_Next) \n",
    "    Erms_Test     = GetErms(TEST_OUT,TestDataAct)\n",
    "    Acc_Test      = GetAccuracy(TEST_OUT,TestDataAct)\n",
    "    L_Erms_Test.append(float(Erms_Test.split(',')[1]))"
   ]
  },
  {
   "cell_type": "code",
   "execution_count": 16,
   "metadata": {},
   "outputs": [
    {
     "name": "stdout",
     "output_type": "stream",
     "text": [
      "--------------------LINEAR REGRESSION----------------------------------\n",
      "----------Gradient Descent Solution for Subtraction--------------------\n",
      "M = 100 \n",
      "Lambda  = 2\n",
      "eta = 0.01\n",
      "E_rms Training   = 0.39567569\n",
      "E_rms Validation = 0.40306398\n",
      "E_rms Testing    = 0.37415786\n",
      "Training Accuracy = 60.333333333333336%\n",
      "Validation Accuracy = 53.46534653465346%\n",
      "Testing Accuracy = 69.0%\n",
      "-------------------------------------------------------------------------\n"
     ]
    }
   ],
   "source": [
    "print ('--------------------LINEAR REGRESSION----------------------------------')\n",
    "print ('----------Gradient Descent Solution for Subtraction--------------------')\n",
    "print (\"M = 100 \\nLambda  = 2\\neta = 0.01\")\n",
    "print (\"E_rms Training   = \" + str(np.around(min(L_Erms_TR),8)))\n",
    "print (\"E_rms Validation = \" + str(np.around(min(L_Erms_Val),8)))\n",
    "print (\"E_rms Testing    = \" + str(np.around(min(L_Erms_Test),8)))\n",
    "print (\"Training Accuracy = \" + Acc_TR + \"%\")\n",
    "print (\"Validation Accuracy = \" + Acc_Val + \"%\")\n",
    "print (\"Testing Accuracy = \" + Acc_Test + \"%\")\n",
    "print ('-------------------------------------------------------------------------')"
   ]
  },
  {
   "cell_type": "markdown",
   "metadata": {},
   "source": [
    "# Performing Logistic Regression"
   ]
  },
  {
   "cell_type": "code",
   "execution_count": 17,
   "metadata": {},
   "outputs": [],
   "source": [
    "def sigmoid(parameter):\n",
    "    return (1/(1+(np.exp(-1*parameter))))\n",
    "\n",
    "def predict(features, weights):\n",
    "    z = np.dot(features, weights)\n",
    "    answer = sigmoid(z)\n",
    "    return answer\n",
    "\n",
    "def cost_function(features, labels, weights):\n",
    "    observations = len(labels)\n",
    "\n",
    "    predictions = predict(features, weights)\n",
    "    \n",
    "    #Take the error when label=1\n",
    "    class1_cost = -labels*np.log(predictions)\n",
    "    \n",
    "    #Take the error when label=0\n",
    "    class2_cost = (1-labels)*np.log(1-predictions)\n",
    "    \n",
    "    #Take the sum of both costs\n",
    "    cost = class1_cost - class2_cost\n",
    "\n",
    "    #Take the average cost\n",
    "    cost = cost.sum()/observations\n",
    "\n",
    "    return cost\n",
    "\n",
    "def update_weights(features, labels, weights, lr):\n",
    "    \n",
    "    N = len(features)\n",
    "\n",
    "    #1 - Get Predictions\n",
    "    predictions = predict(features, weights)\n",
    "\n",
    "    #2 Transpose features \n",
    "    gradient = np.dot(features.T,  predictions - labels)\n",
    "\n",
    "    #3 Take the average cost derivative for each feature\n",
    "    gradient /= N\n",
    "\n",
    "    #4 - Multiply the gradient by our learning rate\n",
    "    gradient *= lr\n",
    "\n",
    "    #5 - Subtract from our weights to minimize cost\n",
    "    weights -= gradient\n",
    "\n",
    "    return weights\n",
    "\n",
    "def train_logistic_weight(features, labels, weights, lr, iters):\n",
    "    cost_history = []\n",
    "\n",
    "    for i in range(iters):\n",
    "        weights = update_weights(features, labels, weights, lr)\n",
    "\n",
    "        #Calculate error for auditing purposes\n",
    "        cost = cost_function(features, labels, weights)\n",
    "        cost_history.append(cost)\n",
    "\n",
    "    return weights\n",
    "\n",
    "def train_logistic_cost(features, labels, weights, lr, iters):\n",
    "    cost_history = []\n",
    "\n",
    "    for i in range(iters):\n",
    "        weights = update_weights(features, labels, weights, lr)\n",
    "\n",
    "        #Calculate error for auditing purposes\n",
    "        cost = cost_function(features, labels, weights)\n",
    "        cost_history.append(cost)\n",
    "\n",
    "    return cost_history\n",
    "\n",
    "def accuracy_Logistic(predicted_labels, actual_labels):\n",
    "    count = 0\n",
    "    a = actual_labels\n",
    "    b = np.array(predicted_labels)\n",
    "    c = np.absolute(b)\n",
    "    d = np.around(c)\n",
    "    \n",
    "    for i in range(len(a)):\n",
    "        if (a[i]  == d[i]):\n",
    "            count = count + 1\n",
    "    \n",
    "    return (1-(count/len(a)))*100\n",
    "\n",
    "def Erms_Logistic(VAL_TEST_OUT,cost_last):\n",
    "    return (math.sqrt(2*cost_last/len(VAL_TEST_OUT)))\n"
   ]
  },
  {
   "cell_type": "code",
   "execution_count": 18,
   "metadata": {},
   "outputs": [],
   "source": [
    "W_Logistic        = np.dot(220, W_Now)\n",
    "concat_data_T = np.array(np.transpose(concat_data))\n",
    "concat_test_data_T = np.array(np.transpose(concat_test_data))\n",
    "concat_valid_data_T = np.array(np.transpose(concat_valid_data))\n",
    "\n",
    "kmeans = KMeans(n_clusters=M, random_state=0).fit(concat_train_data)\n",
    "Mu = kmeans.cluster_centers_\n",
    "\n",
    "BigSigma     = GenerateBigSigma(concat_data_T, Mu, TrainingPercent,IsSynthetic)\n",
    "TRAINING_PHI = GetPhiMatrix(concat_data_T, Mu, BigSigma, TrainingPercent)\n",
    "TEST_PHI     = GetPhiMatrix(concat_test_data_T, Mu, BigSigma, 100) \n",
    "VAL_PHI      = GetPhiMatrix(concat_valid_data_T, Mu, BigSigma, 100)\n",
    "\n",
    "TrainingTarget = (np.transpose(concat_train_vector)).flatten()\n",
    "ValDataAct = np.array(concat_valid_vector)\n",
    "TestDataAct = np.array(concat_test_vector)\n",
    "\n",
    "current_w = train_logistic_weight(TRAINING_PHI,TrainingTarget,W_Logistic,0.01,2000)\n",
    "current_cost_hist = train_logistic_cost(TRAINING_PHI,TrainingTarget,W_Logistic,0.01,2000)\n",
    "\n",
    "#-----------------TrainingData---------------------#\n",
    "TR_TEST_OUT   = GetValTest(TRAINING_PHI,current_w) \n",
    "Erms_TR       = Erms_Logistic(TR_TEST_OUT,current_cost_hist[-1])\n",
    "Acc_TR        = accuracy_Logistic(TR_TEST_OUT,TrainingTarget)\n",
    "        \n",
    "#-----------------ValidationData---------------------#\n",
    "VAL_TEST_OUT  = GetValTest(VAL_PHI,current_w) \n",
    "Erms_Val      = Erms_Logistic(VAL_TEST_OUT,current_cost_hist[-1])\n",
    "Acc_Val       = accuracy_Logistic(VAL_TEST_OUT,ValDataAct)\n",
    "    \n",
    "#-----------------TestingData---------------------#\n",
    "TEST_OUT      = GetValTest(TEST_PHI,current_w) \n",
    "Erms_Test     = Erms_Logistic(TEST_OUT,current_cost_hist[-1])\n",
    "Acc_Test      = accuracy_Logistic(TEST_OUT,TestDataAct)\n",
    "    "
   ]
  },
  {
   "cell_type": "code",
   "execution_count": 19,
   "metadata": {},
   "outputs": [
    {
     "name": "stdout",
     "output_type": "stream",
     "text": [
      "--------------------LOGISTIC REGRESSION------------------------------------\n",
      "----------Gradient Descent Solution for Concatenation--------------------\n",
      "M = 100 \n",
      "Iteration  = 2000\n",
      "eta = 0.01\n",
      "E_rms Training   = 0.026592186861667606\n",
      "E_rms Validation = 0.11226118430927072\n",
      "E_rms Testing    = 0.11282109393878988\n",
      "Training Accuracy = 79.44444444444446%\n",
      "Validation Accuracy = 81.0%\n",
      "Testing Accuracy = 79.0%\n",
      "-------------------------------------------------------------------------\n"
     ]
    }
   ],
   "source": [
    "print ('--------------------LOGISTIC REGRESSION------------------------------------')\n",
    "print ('----------Gradient Descent Solution for Concatenation--------------------')\n",
    "print (\"M = 100 \\nIteration  = 2000\\neta = 0.01\")\n",
    "print (\"E_rms Training   = \" + str(Erms_TR))\n",
    "print (\"E_rms Validation = \" + str(Erms_Val))\n",
    "print (\"E_rms Testing    = \" + str(Erms_Test))\n",
    "print (\"Training Accuracy = \" + str(Acc_TR) + \"%\")\n",
    "print (\"Validation Accuracy = \" + str(Acc_Val) + \"%\")\n",
    "print (\"Testing Accuracy = \" + str(Acc_Test) + \"%\")\n",
    "print ('-------------------------------------------------------------------------')"
   ]
  },
  {
   "cell_type": "code",
   "execution_count": 20,
   "metadata": {},
   "outputs": [],
   "source": [
    "W_Logistic        = np.dot(220, W_Now)\n",
    "diff_data_T = np.array(np.transpose(diff_data))\n",
    "diff_test_data_T = np.array(np.transpose(diff_test_data))\n",
    "diff_valid_data_T = np.array(np.transpose(diff_valid_data))\n",
    "\n",
    "kmeans = KMeans(n_clusters=M, random_state=0).fit(diff_train_data)\n",
    "Mu = kmeans.cluster_centers_\n",
    "\n",
    "BigSigma     = GenerateBigSigma(diff_data_T, Mu, TrainingPercent,IsSynthetic)\n",
    "TRAINING_PHI = GetPhiMatrix(diff_data_T, Mu, BigSigma, TrainingPercent)\n",
    "TEST_PHI     = GetPhiMatrix(diff_test_data_T, Mu, BigSigma, 100) \n",
    "VAL_PHI      = GetPhiMatrix(diff_valid_data_T, Mu, BigSigma, 100)\n",
    "\n",
    "TrainingTarget = (np.transpose(diff_train_vector)).flatten()\n",
    "ValDataAct = np.array(diff_valid_vector)\n",
    "TestDataAct = np.array(diff_test_vector)\n",
    "\n",
    "current_w = train_logistic_weight(TRAINING_PHI,TrainingTarget,W_Logistic,0.01,2000)\n",
    "current_cost_hist = train_logistic_cost(TRAINING_PHI,TrainingTarget,W_Logistic,0.01,2000)\n",
    "\n",
    "#-----------------TrainingData---------------------#\n",
    "TR_TEST_OUT   = GetValTest(TRAINING_PHI,current_w) \n",
    "Erms_TR       = Erms_Logistic(TR_TEST_OUT,current_cost_hist[-1])\n",
    "Acc_TR        = accuracy_Logistic(TR_TEST_OUT,TrainingTarget)\n",
    "        \n",
    "#-----------------ValidationData---------------------#\n",
    "VAL_TEST_OUT  = GetValTest(VAL_PHI,current_w) \n",
    "Erms_Val      = Erms_Logistic(VAL_TEST_OUT,current_cost_hist[-1])\n",
    "Acc_Val       = accuracy_Logistic(VAL_TEST_OUT,ValDataAct)\n",
    "    \n",
    "#-----------------TestingData---------------------#\n",
    "TEST_OUT      = GetValTest(TEST_PHI,current_w) \n",
    "Erms_Test     = Erms_Logistic(TEST_OUT,current_cost_hist[-1])\n",
    "Acc_Test      = accuracy_Logistic(TEST_OUT,TestDataAct)\n",
    "    "
   ]
  },
  {
   "cell_type": "code",
   "execution_count": 21,
   "metadata": {},
   "outputs": [
    {
     "name": "stdout",
     "output_type": "stream",
     "text": [
      "--------------------LOGISTIC REGRESSION------------------------------------\n",
      "----------Gradient Descent Solution for Subtraction--------------------\n",
      "M = 100 \n",
      "Iteration  = 2000\n",
      "eta = 0.01\n",
      "E_rms Training   = 0.025854365414105986\n",
      "E_rms Validation = 0.10914640815554848\n",
      "E_rms Testing    = 0.1096907826455357\n",
      "Training Accuracy = 75.94444444444444%\n",
      "Validation Accuracy = 69.0%\n",
      "Testing Accuracy = 73.0%\n",
      "-------------------------------------------------------------------------\n"
     ]
    }
   ],
   "source": [
    "print ('--------------------LOGISTIC REGRESSION------------------------------------')\n",
    "print ('----------Gradient Descent Solution for Subtraction--------------------')\n",
    "print (\"M = 100 \\nIteration  = 2000\\neta = 0.01\")\n",
    "print (\"E_rms Training   = \" + str(Erms_TR))\n",
    "print (\"E_rms Validation = \" + str(Erms_Val))\n",
    "print (\"E_rms Testing    = \" + str(Erms_Test))\n",
    "print (\"Training Accuracy = \" + str(Acc_TR) + \"%\")\n",
    "print (\"Validation Accuracy = \" + str(Acc_Val) + \"%\")\n",
    "print (\"Testing Accuracy = \" + str(Acc_Test) + \"%\")\n",
    "print ('-------------------------------------------------------------------------')"
   ]
  },
  {
   "cell_type": "markdown",
   "metadata": {},
   "source": [
    "# Performing neural network"
   ]
  },
  {
   "cell_type": "code",
   "execution_count": 22,
   "metadata": {},
   "outputs": [],
   "source": [
    "# Defining Placeholder\n",
    "inputTensor  = tf.placeholder(tf.float32, [None, 18])\n",
    "outputTensor = tf.placeholder(tf.float32, [None, 1])"
   ]
  },
  {
   "cell_type": "code",
   "execution_count": 23,
   "metadata": {},
   "outputs": [],
   "source": [
    "NUM_HIDDEN_NEURONS_LAYER_1 = 100\n",
    "NUM_HIDDEN_NEURONS_LAYER_2 = 100\n",
    "\n",
    "LEARNING_RATE = 1\n",
    "\n",
    "# Initializing the weights to Normal Distribution\n",
    "def init_weights(shape):\n",
    "    return tf.Variable(tf.random_normal(shape,stddev=0.01))\n",
    "\n",
    "#2 hidden layer\n",
    "input_hidden_weights  = init_weights([18, NUM_HIDDEN_NEURONS_LAYER_1])\n",
    "\n",
    "#initializing the hidden layer 1 to output layer weights 1\n",
    "hidden_output_weights1 = init_weights([NUM_HIDDEN_NEURONS_LAYER_1, NUM_HIDDEN_NEURONS_LAYER_2])\n",
    "\n",
    "#initializing the input to hidden layer 2 weights\n",
    "input_hidden_weights2 = init_weights([NUM_HIDDEN_NEURONS_LAYER_1, NUM_HIDDEN_NEURONS_LAYER_2])\n",
    "\n",
    "#initializing the output to hidden layer 2 weights\n",
    "hidden_output_weights2 = init_weights([NUM_HIDDEN_NEURONS_LAYER_2, 1])\n",
    "\n",
    "# Computing values at the hidden layer 1\n",
    "hidden_layer1 = tf.nn.relu(tf.matmul(inputTensor, input_hidden_weights))\n",
    "\n",
    "#computing values at the hidden layer 2\n",
    "hidden_layer2 = tf.nn.relu(tf.matmul(hidden_layer1, input_hidden_weights2))\n",
    "\n",
    "# Computing values at the output layer\n",
    "output_layer = tf.matmul(hidden_layer2, hidden_output_weights2)\n",
    "\n",
    "# Defining Error Function\n",
    "error_function = tf.reduce_mean(tf.nn.sigmoid_cross_entropy_with_logits(logits=output_layer, labels=outputTensor))\n",
    "\n",
    "# Defining Learning Algorithm and Training Parameters\n",
    "training = tf.train.GradientDescentOptimizer(LEARNING_RATE).minimize(error_function)\n",
    "\n",
    "# Prediction Function\n",
    "prediction = tf.round(tf.sigmoid(output_layer))"
   ]
  },
  {
   "cell_type": "code",
   "execution_count": 24,
   "metadata": {},
   "outputs": [
    {
     "data": {
      "application/vnd.jupyter.widget-view+json": {
       "model_id": "534a7ccf1ff84ac282653444d5412d6a",
       "version_major": 2,
       "version_minor": 0
      },
      "text/plain": [
       "HBox(children=(IntProgress(value=0, max=5000), HTML(value='')))"
      ]
     },
     "metadata": {},
     "output_type": "display_data"
    },
    {
     "name": "stderr",
     "output_type": "stream",
     "text": [
      "C:\\Users\\arinj\\Anaconda3\\lib\\site-packages\\numpy\\core\\fromnumeric.py:2957: RuntimeWarning: Mean of empty slice.\n",
      "  out=out, **kwargs)\n",
      "C:\\Users\\arinj\\Anaconda3\\lib\\site-packages\\numpy\\core\\_methods.py:80: RuntimeWarning: invalid value encountered in double_scalars\n",
      "  ret = ret.dtype.type(ret / rcount)\n"
     ]
    },
    {
     "name": "stdout",
     "output_type": "stream",
     "text": [
      "\n"
     ]
    }
   ],
   "source": [
    "NUM_OF_EPOCHS = 5000\n",
    "BATCH_SIZE = 128\n",
    "\n",
    "processedTrainingData = np.array(concat_train_data)\n",
    "processedTrainingLabel = np.array(concat_train_vector)\n",
    "processedTestingData = np.array(concat_test_data)\n",
    "processedTestingLabel = np.array(concat_test_vector)\n",
    "\n",
    "training_accuracy = []\n",
    "\n",
    "with tf.Session() as sess:\n",
    "    \n",
    "    # Set Global Variables ?\n",
    "    tf.global_variables_initializer().run()\n",
    "    \n",
    "    for epoch in tqdm_notebook(range(NUM_OF_EPOCHS)):\n",
    "        \n",
    "        #Shuffle the Training Dataset at each epoch\n",
    "        p = np.array(np.random.permutation(range(len(processedTrainingData)-1)),dtype='int')\n",
    "        processedTrainingData  = processedTrainingData[p]\n",
    "        processedTrainingLabel = processedTrainingLabel[p]\n",
    "        \n",
    "        # Start batch training\n",
    "        for start in range(0, len(processedTrainingData), BATCH_SIZE):\n",
    "            end = start + BATCH_SIZE\n",
    "            sess.run(training, feed_dict={inputTensor: processedTrainingData[start:end], \n",
    "                                          outputTensor: processedTrainingLabel[start:end]})\n",
    "        # Training accuracy for an epoch\n",
    "        training_accuracy.append(np.mean(np.argmax(processedTrainingLabel, axis=1) ==\n",
    "                             sess.run(prediction, feed_dict={inputTensor: processedTrainingData,\n",
    "                                                             outputTensor: processedTrainingLabel})))\n",
    "    # Testing\n",
    "    predictedTestLabel = sess.run(prediction, feed_dict={inputTensor: processedTestingData})"
   ]
  },
  {
   "cell_type": "code",
   "execution_count": 25,
   "metadata": {},
   "outputs": [
    {
     "data": {
      "text/plain": [
       "<matplotlib.axes._subplots.AxesSubplot at 0x1e87e72da20>"
      ]
     },
     "execution_count": 25,
     "metadata": {},
     "output_type": "execute_result"
    },
    {
     "data": {
      "image/png": "[encoded data removed]",
      "text/plain": [
       "<Figure size 432x288 with 1 Axes>"
      ]
     },
     "metadata": {},
     "output_type": "display_data"
    }
   ],
   "source": [
    "df = pd.DataFrame()\n",
    "df['acc'] = training_accuracy\n",
    "df.plot(grid=True)"
   ]
  },
  {
   "cell_type": "code",
   "execution_count": 26,
   "metadata": {},
   "outputs": [
    {
     "name": "stdout",
     "output_type": "stream",
     "text": [
      "--------------------NEURAL NETWORKS------------------------------------\n",
      "---------------------Concatenation-------------------------------------\n",
      "Errors: 0  Correct :100\n",
      "Testing Accuracy: 100.0%\n",
      "-------------------------------------------------------------------------\n"
     ]
    }
   ],
   "source": [
    "wrong   = 0\n",
    "right   = 0\n",
    "predictedTestLabelList = []\n",
    "\n",
    "\"\"\n",
    "for i,j in zip(processedTestingLabel,predictedTestLabel):\n",
    "    #predictedTestLabelList.append(decodeLabel(j))\n",
    "    \n",
    "    if np.argmax(i) == j:\n",
    "        right = right + 1\n",
    "    else:\n",
    "        wrong = wrong + 1\n",
    "print ('--------------------NEURAL NETWORKS------------------------------------')\n",
    "print ('---------------------Concatenation-------------------------------------')\n",
    "\n",
    "print(\"Errors: \" + str(wrong), \" Correct :\" + str(right))\n",
    "\n",
    "print(\"Testing Accuracy: \" + str(right/(right+wrong)*100) + \"%\")\n",
    "print('-------------------------------------------------------------------------')\n",
    "\n"
   ]
  },
  {
   "cell_type": "code",
   "execution_count": 27,
   "metadata": {},
   "outputs": [],
   "source": [
    "# Defining Placeholder\n",
    "inputTensor  = tf.placeholder(tf.float32, [None, 9])\n",
    "outputTensor = tf.placeholder(tf.float32, [None, 1])"
   ]
  },
  {
   "cell_type": "code",
   "execution_count": 28,
   "metadata": {},
   "outputs": [],
   "source": [
    "NUM_HIDDEN_NEURONS_LAYER_1 = 100\n",
    "NUM_HIDDEN_NEURONS_LAYER_2 = 100\n",
    "\n",
    "LEARNING_RATE = 1\n",
    "\n",
    "# Initializing the weights to Normal Distribution\n",
    "def init_weights(shape):\n",
    "    return tf.Variable(tf.random_normal(shape,stddev=0.01))\n",
    "\n",
    "#2 hidden layer\n",
    "input_hidden_weights  = init_weights([9, NUM_HIDDEN_NEURONS_LAYER_1])\n",
    "\n",
    "#initializing the hidden layer 1 to output layer weights 1\n",
    "hidden_output_weights1 = init_weights([NUM_HIDDEN_NEURONS_LAYER_1, NUM_HIDDEN_NEURONS_LAYER_2])\n",
    "\n",
    "#initializing the input to hidden layer 2 weights\n",
    "input_hidden_weights2 = init_weights([NUM_HIDDEN_NEURONS_LAYER_1, NUM_HIDDEN_NEURONS_LAYER_2])\n",
    "\n",
    "#initializing the output to hidden layer 2 weights\n",
    "hidden_output_weights2 = init_weights([NUM_HIDDEN_NEURONS_LAYER_2, 1])\n",
    "\n",
    "# Computing values at the hidden layer 1\n",
    "hidden_layer1 = tf.nn.relu(tf.matmul(inputTensor, input_hidden_weights))\n",
    "\n",
    "#computing values at the hidden layer 2\n",
    "hidden_layer2 = tf.nn.relu(tf.matmul(hidden_layer1, input_hidden_weights2))\n",
    "\n",
    "# Computing values at the output layer\n",
    "output_layer = tf.matmul(hidden_layer2, hidden_output_weights2)\n",
    "\n",
    "# Defining Error Function\n",
    "error_function = tf.reduce_mean(tf.nn.sigmoid_cross_entropy_with_logits(logits=output_layer, labels=outputTensor))\n",
    "\n",
    "# Defining Learning Algorithm and Training Parameters\n",
    "training = tf.train.GradientDescentOptimizer(LEARNING_RATE).minimize(error_function)\n",
    "\n",
    "# Prediction Function\n",
    "prediction = tf.round(tf.sigmoid(output_layer))"
   ]
  },
  {
   "cell_type": "code",
   "execution_count": 29,
   "metadata": {},
   "outputs": [
    {
     "data": {
      "application/vnd.jupyter.widget-view+json": {
       "model_id": "bde503c8beeb481d8a946125f53fa249",
       "version_major": 2,
       "version_minor": 0
      },
      "text/plain": [
       "HBox(children=(IntProgress(value=0, max=5000), HTML(value='')))"
      ]
     },
     "metadata": {},
     "output_type": "display_data"
    },
    {
     "name": "stderr",
     "output_type": "stream",
     "text": [
      "C:\\Users\\arinj\\Anaconda3\\lib\\site-packages\\numpy\\core\\fromnumeric.py:2957: RuntimeWarning: Mean of empty slice.\n",
      "  out=out, **kwargs)\n",
      "C:\\Users\\arinj\\Anaconda3\\lib\\site-packages\\numpy\\core\\_methods.py:80: RuntimeWarning: invalid value encountered in double_scalars\n",
      "  ret = ret.dtype.type(ret / rcount)\n"
     ]
    },
    {
     "name": "stdout",
     "output_type": "stream",
     "text": [
      "\n"
     ]
    }
   ],
   "source": [
    "NUM_OF_EPOCHS = 5000\n",
    "BATCH_SIZE = 128\n",
    "\n",
    "processedTrainingData = np.array(diff_train_data)\n",
    "processedTrainingLabel = np.array(diff_train_vector)\n",
    "processedTestingData = np.array(diff_test_data)\n",
    "processedTestingLabel = np.array(diff_test_vector)\n",
    "\n",
    "training_accuracy = []\n",
    "\n",
    "with tf.Session() as sess:\n",
    "    \n",
    "    # Set Global Variables ?\n",
    "    tf.global_variables_initializer().run()\n",
    "    \n",
    "    for epoch in tqdm_notebook(range(NUM_OF_EPOCHS)):\n",
    "        \n",
    "        #Shuffle the Training Dataset at each epoch\n",
    "        p = np.array(np.random.permutation(range(len(processedTrainingData)-1)),dtype='int')\n",
    "        processedTrainingData  = processedTrainingData[p]\n",
    "        processedTrainingLabel = processedTrainingLabel[p]\n",
    "        \n",
    "        # Start batch training\n",
    "        for start in range(0, len(processedTrainingData), BATCH_SIZE):\n",
    "            end = start + BATCH_SIZE\n",
    "            sess.run(training, feed_dict={inputTensor: processedTrainingData[start:end], \n",
    "                                          outputTensor: processedTrainingLabel[start:end]})\n",
    "        # Training accuracy for an epoch\n",
    "        training_accuracy.append(np.mean(np.argmax(processedTrainingLabel, axis=1) ==\n",
    "                             sess.run(prediction, feed_dict={inputTensor: processedTrainingData,\n",
    "                                                             outputTensor: processedTrainingLabel})))\n",
    "    # Testing\n",
    "    predictedTestLabel = sess.run(prediction, feed_dict={inputTensor: processedTestingData})"
   ]
  },
  {
   "cell_type": "code",
   "execution_count": 30,
   "metadata": {},
   "outputs": [
    {
     "data": {
      "text/plain": [
       "<matplotlib.axes._subplots.AxesSubplot at 0x1e80089d780>"
      ]
     },
     "execution_count": 30,
     "metadata": {},
     "output_type": "execute_result"
    },
    {
     "data": {
      "image/png": "[encoded data removed]",
      "text/plain": [
       "<Figure size 432x288 with 1 Axes>"
      ]
     },
     "metadata": {},
     "output_type": "display_data"
    }
   ],
   "source": [
    "df = pd.DataFrame()\n",
    "df['acc'] = training_accuracy\n",
    "df.plot(grid=True)"
   ]
  },
  {
   "cell_type": "code",
   "execution_count": 31,
   "metadata": {},
   "outputs": [
    {
     "name": "stdout",
     "output_type": "stream",
     "text": [
      "--------------------NEURAL NETWORKS------------------------------------\n",
      "-----------------------Subtraction-------------------------------------\n",
      "Errors: 32  Correct :68\n",
      "Testing Accuracy: 68.0%\n",
      "-------------------------------------------------------------------------\n"
     ]
    }
   ],
   "source": [
    "wrong   = 0\n",
    "right   = 0\n",
    "predictedTestLabelList = []\n",
    "\n",
    "\"\"\n",
    "for i,j in zip(processedTestingLabel,predictedTestLabel):\n",
    "    #predictedTestLabelList.append(decodeLabel(j))\n",
    "    \n",
    "    if np.argmax(i) == j:\n",
    "        right = right + 1\n",
    "    else:\n",
    "        wrong = wrong + 1\n",
    "print ('--------------------NEURAL NETWORKS------------------------------------')\n",
    "print ('-----------------------Subtraction-------------------------------------')\n",
    "\n",
    "print(\"Errors: \" + str(wrong), \" Correct :\" + str(right))\n",
    "\n",
    "print(\"Testing Accuracy: \" + str(right/(right+wrong)*100) +\"%\")\n",
    "print('-------------------------------------------------------------------------')\n",
    "\n"
   ]
  },
  {
   "cell_type": "code",
   "execution_count": 32,
   "metadata": {},
   "outputs": [
    {
     "name": "stdout",
     "output_type": "stream",
     "text": [
      "-------------------------------------------------------------------------\n",
      "-------------------------------------------------------------------------\n",
      "------------------------THE END-----------------------------------------\n",
      "-------------------------------------------------------------------------\n",
      "-------------------------------------------------------------------------\n"
     ]
    }
   ],
   "source": [
    "print('-------------------------------------------------------------------------')\n",
    "print('-------------------------------------------------------------------------')\n",
    "print ('------------------------THE END-----------------------------------------')\n",
    "print('-------------------------------------------------------------------------')\n",
    "print('-------------------------------------------------------------------------')\n"
   ]
  },
  {
   "cell_type": "code",
   "execution_count": null,
   "metadata": {},
   "outputs": [],
   "source": []
  }
 ],
 "metadata": {
  "kernelspec": {
   "display_name": "Python 3",
   "language": "python",
   "name": "python3"
  },
  "language_info": {
   "codemirror_mode": {
    "name": "ipython",
    "version": 3
   },
   "file_extension": ".py",
   "mimetype": "text/x-python",
   "name": "python",
   "nbconvert_exporter": "python",
   "pygments_lexer": "ipython3",
   "version": "3.6.5"
  }
 },
 "nbformat": 4,
 "nbformat_minor": 2
}
